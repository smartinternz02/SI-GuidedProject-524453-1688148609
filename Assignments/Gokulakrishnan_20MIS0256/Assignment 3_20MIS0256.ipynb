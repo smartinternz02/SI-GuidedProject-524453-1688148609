{
 "cells": [
  {
   "cell_type": "markdown",
   "id": "67084abd",
   "metadata": {},
   "source": [
    "# Assignment 3"
   ]
  },
  {
   "cell_type": "raw",
   "id": "199df86c",
   "metadata": {},
   "source": [
    " Name: Gokulakrishnan K\n",
    " Reg No: 20MIS0256\n",
    " Email ID: gokulakrishnan.k2020@vitstudent.ac.in\n",
    " Institution: Vellore Institute of Technology, Vellore\n",
    " Branch: Mtech(Integrated) Software Engineering "
   ]
  },
  {
   "cell_type": "raw",
   "id": "54fee2c2",
   "metadata": {},
   "source": [
    "Problem Statement: House Price Prediction\n",
    "\n",
    "Description:- \n",
    "        House price prediction is a common problem in the real estate industry and involves predicting the selling price of a house based on various features and attributes. The problem is typically approached as a regression problem, where the target variable is the price of the house, and the features are various attributes of the house. The features used in house price prediction can include both quantitative and categorical variables, such as the number of bedrooms, house area, bedrooms, furnished, nearness to main road, and various amenities such as a garage and other factors that may influence the value of the property. Accurate predictions can help agents and appraisers price homes correctly, while homeowners can use the predictions to set a reasonable asking price for their properties. Accurate house price prediction can also be useful for buyers who are looking to make informed decisions about purchasing a property and obtaining a fair price for their investment."
   ]
  },
  {
   "cell_type": "raw",
   "id": "1d5eb056",
   "metadata": {},
   "source": [
    "Attribute Information:\n",
    "\n",
    "Name - Description\n",
    "\n",
    "1- Price-Prices of the houses\n",
    "2- Area- Area of the houses\n",
    "3- Bedrooms- No of house bedrooms\n",
    "4- Bathrooms- No of bathrooms\n",
    "5- Stories- No of house stories\n",
    "6- Main Road- Weather connected to Main road\n",
    "7- Guestroom-Weather has a guest room\n",
    "8- Basement-Weather has a basement\n",
    "9- Hot water heating- Weather has a hot water heater\n",
    "10-Airconditioning-Weather has a air conditioner\n",
    "11-Parking- No of house parking\n",
    "12-Furnishing Status-Furnishing status of house\n"
   ]
  },
  {
   "cell_type": "markdown",
   "id": "ae951e9c",
   "metadata": {},
   "source": [
    "Building a Regression Model"
   ]
  },
  {
   "cell_type": "markdown",
   "id": "13f6aa64",
   "metadata": {},
   "source": [
    "## 1. Download the dataset: Dataset"
   ]
  },
  {
   "cell_type": "code",
   "execution_count": 1,
   "id": "fd807634",
   "metadata": {},
   "outputs": [],
   "source": [
    "import numpy as np\n",
    "import pandas as pd\n",
    "import matplotlib.pyplot as plt \n",
    "import seaborn as sns"
   ]
  },
  {
   "cell_type": "markdown",
   "id": "53828969",
   "metadata": {},
   "source": [
    "## 2. Load the dataset into the tool.\n"
   ]
  },
  {
   "cell_type": "code",
   "execution_count": 2,
   "id": "aa75f671",
   "metadata": {},
   "outputs": [],
   "source": [
    "data=pd.read_csv('Housing.csv')"
   ]
  },
  {
   "cell_type": "code",
   "execution_count": 3,
   "id": "3d25ac06",
   "metadata": {},
   "outputs": [
    {
     "data": {
      "text/html": [
       "<div>\n",
       "<style scoped>\n",
       "    .dataframe tbody tr th:only-of-type {\n",
       "        vertical-align: middle;\n",
       "    }\n",
       "\n",
       "    .dataframe tbody tr th {\n",
       "        vertical-align: top;\n",
       "    }\n",
       "\n",
       "    .dataframe thead th {\n",
       "        text-align: right;\n",
       "    }\n",
       "</style>\n",
       "<table border=\"1\" class=\"dataframe\">\n",
       "  <thead>\n",
       "    <tr style=\"text-align: right;\">\n",
       "      <th></th>\n",
       "      <th>price</th>\n",
       "      <th>area</th>\n",
       "      <th>bedrooms</th>\n",
       "      <th>bathrooms</th>\n",
       "      <th>stories</th>\n",
       "      <th>mainroad</th>\n",
       "      <th>guestroom</th>\n",
       "      <th>basement</th>\n",
       "      <th>hotwaterheating</th>\n",
       "      <th>airconditioning</th>\n",
       "      <th>parking</th>\n",
       "      <th>furnishingstatus</th>\n",
       "    </tr>\n",
       "  </thead>\n",
       "  <tbody>\n",
       "    <tr>\n",
       "      <th>0</th>\n",
       "      <td>13300000</td>\n",
       "      <td>7420</td>\n",
       "      <td>4</td>\n",
       "      <td>2</td>\n",
       "      <td>3</td>\n",
       "      <td>yes</td>\n",
       "      <td>no</td>\n",
       "      <td>no</td>\n",
       "      <td>no</td>\n",
       "      <td>yes</td>\n",
       "      <td>2</td>\n",
       "      <td>furnished</td>\n",
       "    </tr>\n",
       "    <tr>\n",
       "      <th>1</th>\n",
       "      <td>12250000</td>\n",
       "      <td>8960</td>\n",
       "      <td>4</td>\n",
       "      <td>4</td>\n",
       "      <td>4</td>\n",
       "      <td>yes</td>\n",
       "      <td>no</td>\n",
       "      <td>no</td>\n",
       "      <td>no</td>\n",
       "      <td>yes</td>\n",
       "      <td>3</td>\n",
       "      <td>furnished</td>\n",
       "    </tr>\n",
       "    <tr>\n",
       "      <th>2</th>\n",
       "      <td>12250000</td>\n",
       "      <td>9960</td>\n",
       "      <td>3</td>\n",
       "      <td>2</td>\n",
       "      <td>2</td>\n",
       "      <td>yes</td>\n",
       "      <td>no</td>\n",
       "      <td>yes</td>\n",
       "      <td>no</td>\n",
       "      <td>no</td>\n",
       "      <td>2</td>\n",
       "      <td>semi-furnished</td>\n",
       "    </tr>\n",
       "    <tr>\n",
       "      <th>3</th>\n",
       "      <td>12215000</td>\n",
       "      <td>7500</td>\n",
       "      <td>4</td>\n",
       "      <td>2</td>\n",
       "      <td>2</td>\n",
       "      <td>yes</td>\n",
       "      <td>no</td>\n",
       "      <td>yes</td>\n",
       "      <td>no</td>\n",
       "      <td>yes</td>\n",
       "      <td>3</td>\n",
       "      <td>furnished</td>\n",
       "    </tr>\n",
       "    <tr>\n",
       "      <th>4</th>\n",
       "      <td>11410000</td>\n",
       "      <td>7420</td>\n",
       "      <td>4</td>\n",
       "      <td>1</td>\n",
       "      <td>2</td>\n",
       "      <td>yes</td>\n",
       "      <td>yes</td>\n",
       "      <td>yes</td>\n",
       "      <td>no</td>\n",
       "      <td>yes</td>\n",
       "      <td>2</td>\n",
       "      <td>furnished</td>\n",
       "    </tr>\n",
       "  </tbody>\n",
       "</table>\n",
       "</div>"
      ],
      "text/plain": [
       "      price  area  bedrooms  bathrooms  stories mainroad guestroom basement  \\\n",
       "0  13300000  7420         4          2        3      yes        no       no   \n",
       "1  12250000  8960         4          4        4      yes        no       no   \n",
       "2  12250000  9960         3          2        2      yes        no      yes   \n",
       "3  12215000  7500         4          2        2      yes        no      yes   \n",
       "4  11410000  7420         4          1        2      yes       yes      yes   \n",
       "\n",
       "  hotwaterheating airconditioning  parking furnishingstatus  \n",
       "0              no             yes        2        furnished  \n",
       "1              no             yes        3        furnished  \n",
       "2              no              no        2   semi-furnished  \n",
       "3              no             yes        3        furnished  \n",
       "4              no             yes        2        furnished  "
      ]
     },
     "execution_count": 3,
     "metadata": {},
     "output_type": "execute_result"
    }
   ],
   "source": [
    "data.head()"
   ]
  },
  {
   "cell_type": "code",
   "execution_count": 4,
   "id": "067d8ca6",
   "metadata": {},
   "outputs": [
    {
     "data": {
      "text/html": [
       "<div>\n",
       "<style scoped>\n",
       "    .dataframe tbody tr th:only-of-type {\n",
       "        vertical-align: middle;\n",
       "    }\n",
       "\n",
       "    .dataframe tbody tr th {\n",
       "        vertical-align: top;\n",
       "    }\n",
       "\n",
       "    .dataframe thead th {\n",
       "        text-align: right;\n",
       "    }\n",
       "</style>\n",
       "<table border=\"1\" class=\"dataframe\">\n",
       "  <thead>\n",
       "    <tr style=\"text-align: right;\">\n",
       "      <th></th>\n",
       "      <th>price</th>\n",
       "      <th>area</th>\n",
       "      <th>bedrooms</th>\n",
       "      <th>bathrooms</th>\n",
       "      <th>stories</th>\n",
       "      <th>mainroad</th>\n",
       "      <th>guestroom</th>\n",
       "      <th>basement</th>\n",
       "      <th>hotwaterheating</th>\n",
       "      <th>airconditioning</th>\n",
       "      <th>parking</th>\n",
       "      <th>furnishingstatus</th>\n",
       "    </tr>\n",
       "  </thead>\n",
       "  <tbody>\n",
       "    <tr>\n",
       "      <th>540</th>\n",
       "      <td>1820000</td>\n",
       "      <td>3000</td>\n",
       "      <td>2</td>\n",
       "      <td>1</td>\n",
       "      <td>1</td>\n",
       "      <td>yes</td>\n",
       "      <td>no</td>\n",
       "      <td>yes</td>\n",
       "      <td>no</td>\n",
       "      <td>no</td>\n",
       "      <td>2</td>\n",
       "      <td>unfurnished</td>\n",
       "    </tr>\n",
       "    <tr>\n",
       "      <th>541</th>\n",
       "      <td>1767150</td>\n",
       "      <td>2400</td>\n",
       "      <td>3</td>\n",
       "      <td>1</td>\n",
       "      <td>1</td>\n",
       "      <td>no</td>\n",
       "      <td>no</td>\n",
       "      <td>no</td>\n",
       "      <td>no</td>\n",
       "      <td>no</td>\n",
       "      <td>0</td>\n",
       "      <td>semi-furnished</td>\n",
       "    </tr>\n",
       "    <tr>\n",
       "      <th>542</th>\n",
       "      <td>1750000</td>\n",
       "      <td>3620</td>\n",
       "      <td>2</td>\n",
       "      <td>1</td>\n",
       "      <td>1</td>\n",
       "      <td>yes</td>\n",
       "      <td>no</td>\n",
       "      <td>no</td>\n",
       "      <td>no</td>\n",
       "      <td>no</td>\n",
       "      <td>0</td>\n",
       "      <td>unfurnished</td>\n",
       "    </tr>\n",
       "    <tr>\n",
       "      <th>543</th>\n",
       "      <td>1750000</td>\n",
       "      <td>2910</td>\n",
       "      <td>3</td>\n",
       "      <td>1</td>\n",
       "      <td>1</td>\n",
       "      <td>no</td>\n",
       "      <td>no</td>\n",
       "      <td>no</td>\n",
       "      <td>no</td>\n",
       "      <td>no</td>\n",
       "      <td>0</td>\n",
       "      <td>furnished</td>\n",
       "    </tr>\n",
       "    <tr>\n",
       "      <th>544</th>\n",
       "      <td>1750000</td>\n",
       "      <td>3850</td>\n",
       "      <td>3</td>\n",
       "      <td>1</td>\n",
       "      <td>2</td>\n",
       "      <td>yes</td>\n",
       "      <td>no</td>\n",
       "      <td>no</td>\n",
       "      <td>no</td>\n",
       "      <td>no</td>\n",
       "      <td>0</td>\n",
       "      <td>unfurnished</td>\n",
       "    </tr>\n",
       "  </tbody>\n",
       "</table>\n",
       "</div>"
      ],
      "text/plain": [
       "       price  area  bedrooms  bathrooms  stories mainroad guestroom basement  \\\n",
       "540  1820000  3000         2          1        1      yes        no      yes   \n",
       "541  1767150  2400         3          1        1       no        no       no   \n",
       "542  1750000  3620         2          1        1      yes        no       no   \n",
       "543  1750000  2910         3          1        1       no        no       no   \n",
       "544  1750000  3850         3          1        2      yes        no       no   \n",
       "\n",
       "    hotwaterheating airconditioning  parking furnishingstatus  \n",
       "540              no              no        2      unfurnished  \n",
       "541              no              no        0   semi-furnished  \n",
       "542              no              no        0      unfurnished  \n",
       "543              no              no        0        furnished  \n",
       "544              no              no        0      unfurnished  "
      ]
     },
     "execution_count": 4,
     "metadata": {},
     "output_type": "execute_result"
    }
   ],
   "source": [
    "data.tail()"
   ]
  },
  {
   "cell_type": "code",
   "execution_count": 5,
   "id": "f1499e38",
   "metadata": {},
   "outputs": [
    {
     "data": {
      "text/plain": [
       "(545, 12)"
      ]
     },
     "execution_count": 5,
     "metadata": {},
     "output_type": "execute_result"
    }
   ],
   "source": [
    "data.shape"
   ]
  },
  {
   "cell_type": "code",
   "execution_count": 6,
   "id": "5fdd6550",
   "metadata": {},
   "outputs": [
    {
     "name": "stdout",
     "output_type": "stream",
     "text": [
      "<class 'pandas.core.frame.DataFrame'>\n",
      "RangeIndex: 545 entries, 0 to 544\n",
      "Data columns (total 12 columns):\n",
      " #   Column            Non-Null Count  Dtype \n",
      "---  ------            --------------  ----- \n",
      " 0   price             545 non-null    int64 \n",
      " 1   area              545 non-null    int64 \n",
      " 2   bedrooms          545 non-null    int64 \n",
      " 3   bathrooms         545 non-null    int64 \n",
      " 4   stories           545 non-null    int64 \n",
      " 5   mainroad          545 non-null    object\n",
      " 6   guestroom         545 non-null    object\n",
      " 7   basement          545 non-null    object\n",
      " 8   hotwaterheating   545 non-null    object\n",
      " 9   airconditioning   545 non-null    object\n",
      " 10  parking           545 non-null    int64 \n",
      " 11  furnishingstatus  545 non-null    object\n",
      "dtypes: int64(6), object(6)\n",
      "memory usage: 51.2+ KB\n"
     ]
    }
   ],
   "source": [
    "data.info()"
   ]
  },
  {
   "cell_type": "code",
   "execution_count": 7,
   "id": "8d0fef68",
   "metadata": {},
   "outputs": [
    {
     "data": {
      "text/html": [
       "<div>\n",
       "<style scoped>\n",
       "    .dataframe tbody tr th:only-of-type {\n",
       "        vertical-align: middle;\n",
       "    }\n",
       "\n",
       "    .dataframe tbody tr th {\n",
       "        vertical-align: top;\n",
       "    }\n",
       "\n",
       "    .dataframe thead th {\n",
       "        text-align: right;\n",
       "    }\n",
       "</style>\n",
       "<table border=\"1\" class=\"dataframe\">\n",
       "  <thead>\n",
       "    <tr style=\"text-align: right;\">\n",
       "      <th></th>\n",
       "      <th>price</th>\n",
       "      <th>area</th>\n",
       "      <th>bedrooms</th>\n",
       "      <th>bathrooms</th>\n",
       "      <th>stories</th>\n",
       "      <th>parking</th>\n",
       "    </tr>\n",
       "  </thead>\n",
       "  <tbody>\n",
       "    <tr>\n",
       "      <th>count</th>\n",
       "      <td>5.450000e+02</td>\n",
       "      <td>545.000000</td>\n",
       "      <td>545.000000</td>\n",
       "      <td>545.000000</td>\n",
       "      <td>545.000000</td>\n",
       "      <td>545.000000</td>\n",
       "    </tr>\n",
       "    <tr>\n",
       "      <th>mean</th>\n",
       "      <td>4.766729e+06</td>\n",
       "      <td>5150.541284</td>\n",
       "      <td>2.965138</td>\n",
       "      <td>1.286239</td>\n",
       "      <td>1.805505</td>\n",
       "      <td>0.693578</td>\n",
       "    </tr>\n",
       "    <tr>\n",
       "      <th>std</th>\n",
       "      <td>1.870440e+06</td>\n",
       "      <td>2170.141023</td>\n",
       "      <td>0.738064</td>\n",
       "      <td>0.502470</td>\n",
       "      <td>0.867492</td>\n",
       "      <td>0.861586</td>\n",
       "    </tr>\n",
       "    <tr>\n",
       "      <th>min</th>\n",
       "      <td>1.750000e+06</td>\n",
       "      <td>1650.000000</td>\n",
       "      <td>1.000000</td>\n",
       "      <td>1.000000</td>\n",
       "      <td>1.000000</td>\n",
       "      <td>0.000000</td>\n",
       "    </tr>\n",
       "    <tr>\n",
       "      <th>25%</th>\n",
       "      <td>3.430000e+06</td>\n",
       "      <td>3600.000000</td>\n",
       "      <td>2.000000</td>\n",
       "      <td>1.000000</td>\n",
       "      <td>1.000000</td>\n",
       "      <td>0.000000</td>\n",
       "    </tr>\n",
       "    <tr>\n",
       "      <th>50%</th>\n",
       "      <td>4.340000e+06</td>\n",
       "      <td>4600.000000</td>\n",
       "      <td>3.000000</td>\n",
       "      <td>1.000000</td>\n",
       "      <td>2.000000</td>\n",
       "      <td>0.000000</td>\n",
       "    </tr>\n",
       "    <tr>\n",
       "      <th>75%</th>\n",
       "      <td>5.740000e+06</td>\n",
       "      <td>6360.000000</td>\n",
       "      <td>3.000000</td>\n",
       "      <td>2.000000</td>\n",
       "      <td>2.000000</td>\n",
       "      <td>1.000000</td>\n",
       "    </tr>\n",
       "    <tr>\n",
       "      <th>max</th>\n",
       "      <td>1.330000e+07</td>\n",
       "      <td>16200.000000</td>\n",
       "      <td>6.000000</td>\n",
       "      <td>4.000000</td>\n",
       "      <td>4.000000</td>\n",
       "      <td>3.000000</td>\n",
       "    </tr>\n",
       "  </tbody>\n",
       "</table>\n",
       "</div>"
      ],
      "text/plain": [
       "              price          area    bedrooms   bathrooms     stories  \\\n",
       "count  5.450000e+02    545.000000  545.000000  545.000000  545.000000   \n",
       "mean   4.766729e+06   5150.541284    2.965138    1.286239    1.805505   \n",
       "std    1.870440e+06   2170.141023    0.738064    0.502470    0.867492   \n",
       "min    1.750000e+06   1650.000000    1.000000    1.000000    1.000000   \n",
       "25%    3.430000e+06   3600.000000    2.000000    1.000000    1.000000   \n",
       "50%    4.340000e+06   4600.000000    3.000000    1.000000    2.000000   \n",
       "75%    5.740000e+06   6360.000000    3.000000    2.000000    2.000000   \n",
       "max    1.330000e+07  16200.000000    6.000000    4.000000    4.000000   \n",
       "\n",
       "          parking  \n",
       "count  545.000000  \n",
       "mean     0.693578  \n",
       "std      0.861586  \n",
       "min      0.000000  \n",
       "25%      0.000000  \n",
       "50%      0.000000  \n",
       "75%      1.000000  \n",
       "max      3.000000  "
      ]
     },
     "execution_count": 7,
     "metadata": {},
     "output_type": "execute_result"
    }
   ],
   "source": [
    "data.describe()"
   ]
  },
  {
   "cell_type": "code",
   "execution_count": 8,
   "id": "92d4477a",
   "metadata": {},
   "outputs": [],
   "source": [
    "names=data.columns"
   ]
  },
  {
   "cell_type": "code",
   "execution_count": 9,
   "id": "e9482b62",
   "metadata": {
    "scrolled": true
   },
   "outputs": [
    {
     "data": {
      "text/plain": [
       "Index(['price', 'area', 'bedrooms', 'bathrooms', 'stories', 'mainroad',\n",
       "       'guestroom', 'basement', 'hotwaterheating', 'airconditioning',\n",
       "       'parking', 'furnishingstatus'],\n",
       "      dtype='object')"
      ]
     },
     "execution_count": 9,
     "metadata": {},
     "output_type": "execute_result"
    }
   ],
   "source": [
    "names"
   ]
  },
  {
   "cell_type": "markdown",
   "id": "96af6314",
   "metadata": {},
   "source": [
    "## 3. Perform Below Visualizations.\n",
    " Univariate Analysis\n",
    " Bi-Variate Analysis\n",
    " Multi-Variate Analysis\n"
   ]
  },
  {
   "cell_type": "code",
   "execution_count": 10,
   "id": "69e51826",
   "metadata": {},
   "outputs": [],
   "source": [
    "#Univariate Analysis:Histogram, Box Plot, Bar Plot\n",
    "#let's visualize Box plot for all the columns which has numerical values"
   ]
  },
  {
   "cell_type": "code",
   "execution_count": 11,
   "id": "1520afdf",
   "metadata": {},
   "outputs": [
    {
     "data": {
      "image/png": "[encoded data removed]",
      "text/plain": [
       "<Figure size 1500x800 with 6 Axes>"
      ]
     },
     "metadata": {},
     "output_type": "display_data"
    }
   ],
   "source": [
    "fig, axs = plt.subplots(2,3, figsize = (15,8))\n",
    "p1 = sns.boxplot(x=data['price'], ax = axs[0,0])\n",
    "p2 = sns.boxplot(x=data['area'], ax = axs[0,1])\n",
    "p3 = sns.boxplot(x=data['bedrooms'], ax = axs[0,2])\n",
    "p4 = sns.boxplot(x=data['bathrooms'], ax = axs[1,0])\n",
    "p5 = sns.boxplot(x=data['stories'], ax = axs[1,1])\n",
    "p6 = sns.boxplot(x=data['parking'], ax = axs[1,2])\n",
    "plt.tight_layout()"
   ]
  },
  {
   "cell_type": "code",
   "execution_count": 12,
   "id": "cbe6c47a",
   "metadata": {},
   "outputs": [],
   "source": [
    "#Bivariate Analysis:Scatter Plot, Line Plot with Multiple Lines, Box Plot with Grouping\n",
    "#let's visualize Scatter Plot"
   ]
  },
  {
   "cell_type": "code",
   "execution_count": 13,
   "id": "269e39c2",
   "metadata": {},
   "outputs": [
    {
     "data": {
      "image/png": "[encoded data removed]",
      "text/plain": [
       "<Figure size 1500x2000 with 3 Axes>"
      ]
     },
     "metadata": {},
     "output_type": "display_data"
    }
   ],
   "source": [
    "fig, axs = plt.subplots(3, 1, figsize=(15, 20))\n",
    "b = axs[0].scatter(data['price'], data['area'])\n",
    "c = axs[1].scatter(data['bedrooms'], data['bathrooms'])\n",
    "d = axs[2].scatter(data['stories'], data['parking'])"
   ]
  },
  {
   "cell_type": "code",
   "execution_count": 14,
   "id": "06ffc041",
   "metadata": {},
   "outputs": [],
   "source": [
    "#Multivariate Analysis:Heatmap "
   ]
  },
  {
   "cell_type": "code",
   "execution_count": 15,
   "id": "e6cd81e3",
   "metadata": {},
   "outputs": [
    {
     "name": "stderr",
     "output_type": "stream",
     "text": [
      "C:\\Users\\gokul\\AppData\\Local\\Temp\\ipykernel_15272\\3604511770.py:2: FutureWarning: The default value of numeric_only in DataFrame.corr is deprecated. In a future version, it will default to False. Select only valid columns or specify the value of numeric_only to silence this warning.\n",
      "  c=data.corr()\n"
     ]
    },
    {
     "data": {
      "text/html": [
       "<div>\n",
       "<style scoped>\n",
       "    .dataframe tbody tr th:only-of-type {\n",
       "        vertical-align: middle;\n",
       "    }\n",
       "\n",
       "    .dataframe tbody tr th {\n",
       "        vertical-align: top;\n",
       "    }\n",
       "\n",
       "    .dataframe thead th {\n",
       "        text-align: right;\n",
       "    }\n",
       "</style>\n",
       "<table border=\"1\" class=\"dataframe\">\n",
       "  <thead>\n",
       "    <tr style=\"text-align: right;\">\n",
       "      <th></th>\n",
       "      <th>price</th>\n",
       "      <th>area</th>\n",
       "      <th>bedrooms</th>\n",
       "      <th>bathrooms</th>\n",
       "      <th>stories</th>\n",
       "      <th>parking</th>\n",
       "    </tr>\n",
       "  </thead>\n",
       "  <tbody>\n",
       "    <tr>\n",
       "      <th>price</th>\n",
       "      <td>1.000000</td>\n",
       "      <td>0.535997</td>\n",
       "      <td>0.366494</td>\n",
       "      <td>0.517545</td>\n",
       "      <td>0.420712</td>\n",
       "      <td>0.384394</td>\n",
       "    </tr>\n",
       "    <tr>\n",
       "      <th>area</th>\n",
       "      <td>0.535997</td>\n",
       "      <td>1.000000</td>\n",
       "      <td>0.151858</td>\n",
       "      <td>0.193820</td>\n",
       "      <td>0.083996</td>\n",
       "      <td>0.352980</td>\n",
       "    </tr>\n",
       "    <tr>\n",
       "      <th>bedrooms</th>\n",
       "      <td>0.366494</td>\n",
       "      <td>0.151858</td>\n",
       "      <td>1.000000</td>\n",
       "      <td>0.373930</td>\n",
       "      <td>0.408564</td>\n",
       "      <td>0.139270</td>\n",
       "    </tr>\n",
       "    <tr>\n",
       "      <th>bathrooms</th>\n",
       "      <td>0.517545</td>\n",
       "      <td>0.193820</td>\n",
       "      <td>0.373930</td>\n",
       "      <td>1.000000</td>\n",
       "      <td>0.326165</td>\n",
       "      <td>0.177496</td>\n",
       "    </tr>\n",
       "    <tr>\n",
       "      <th>stories</th>\n",
       "      <td>0.420712</td>\n",
       "      <td>0.083996</td>\n",
       "      <td>0.408564</td>\n",
       "      <td>0.326165</td>\n",
       "      <td>1.000000</td>\n",
       "      <td>0.045547</td>\n",
       "    </tr>\n",
       "    <tr>\n",
       "      <th>parking</th>\n",
       "      <td>0.384394</td>\n",
       "      <td>0.352980</td>\n",
       "      <td>0.139270</td>\n",
       "      <td>0.177496</td>\n",
       "      <td>0.045547</td>\n",
       "      <td>1.000000</td>\n",
       "    </tr>\n",
       "  </tbody>\n",
       "</table>\n",
       "</div>"
      ],
      "text/plain": [
       "              price      area  bedrooms  bathrooms   stories   parking\n",
       "price      1.000000  0.535997  0.366494   0.517545  0.420712  0.384394\n",
       "area       0.535997  1.000000  0.151858   0.193820  0.083996  0.352980\n",
       "bedrooms   0.366494  0.151858  1.000000   0.373930  0.408564  0.139270\n",
       "bathrooms  0.517545  0.193820  0.373930   1.000000  0.326165  0.177496\n",
       "stories    0.420712  0.083996  0.408564   0.326165  1.000000  0.045547\n",
       "parking    0.384394  0.352980  0.139270   0.177496  0.045547  1.000000"
      ]
     },
     "execution_count": 15,
     "metadata": {},
     "output_type": "execute_result"
    },
    {
     "data": {
      "text/plain": [
       "<Figure size 1600x1000 with 0 Axes>"
      ]
     },
     "metadata": {},
     "output_type": "display_data"
    }
   ],
   "source": [
    "plt.figure(figsize = (16, 10))\n",
    "c=data.corr()\n",
    "c"
   ]
  },
  {
   "cell_type": "code",
   "execution_count": 16,
   "id": "a7d69e09",
   "metadata": {},
   "outputs": [
    {
     "data": {
      "text/plain": [
       "<Axes: >"
      ]
     },
     "execution_count": 16,
     "metadata": {},
     "output_type": "execute_result"
    },
    {
     "data": {
      "image/png": "[encoded data removed]",
      "text/plain": [
       "<Figure size 640x480 with 2 Axes>"
      ]
     },
     "metadata": {},
     "output_type": "display_data"
    }
   ],
   "source": [
    "sns.heatmap(c,annot=True)"
   ]
  },
  {
   "cell_type": "markdown",
   "id": "ddf41bbe",
   "metadata": {},
   "source": [
    "## 4. Perform descriptive statistics on the dataset.\n"
   ]
  },
  {
   "cell_type": "code",
   "execution_count": 17,
   "id": "b0a8d9b8",
   "metadata": {},
   "outputs": [
    {
     "name": "stderr",
     "output_type": "stream",
     "text": [
      "C:\\Users\\gokul\\AppData\\Local\\Temp\\ipykernel_15272\\531903386.py:1: FutureWarning: The default value of numeric_only in DataFrame.mean is deprecated. In a future version, it will default to False. In addition, specifying 'numeric_only=None' is deprecated. Select only valid columns or specify the value of numeric_only to silence this warning.\n",
      "  data.mean()\n"
     ]
    },
    {
     "data": {
      "text/plain": [
       "price        4.766729e+06\n",
       "area         5.150541e+03\n",
       "bedrooms     2.965138e+00\n",
       "bathrooms    1.286239e+00\n",
       "stories      1.805505e+00\n",
       "parking      6.935780e-01\n",
       "dtype: float64"
      ]
     },
     "execution_count": 17,
     "metadata": {},
     "output_type": "execute_result"
    }
   ],
   "source": [
    "data.mean()"
   ]
  },
  {
   "cell_type": "code",
   "execution_count": 18,
   "id": "f44ef34d",
   "metadata": {},
   "outputs": [
    {
     "name": "stderr",
     "output_type": "stream",
     "text": [
      "C:\\Users\\gokul\\AppData\\Local\\Temp\\ipykernel_15272\\4184645713.py:1: FutureWarning: The default value of numeric_only in DataFrame.median is deprecated. In a future version, it will default to False. In addition, specifying 'numeric_only=None' is deprecated. Select only valid columns or specify the value of numeric_only to silence this warning.\n",
      "  data.median()\n"
     ]
    },
    {
     "data": {
      "text/plain": [
       "price        4340000.0\n",
       "area            4600.0\n",
       "bedrooms           3.0\n",
       "bathrooms          1.0\n",
       "stories            2.0\n",
       "parking            0.0\n",
       "dtype: float64"
      ]
     },
     "execution_count": 18,
     "metadata": {},
     "output_type": "execute_result"
    }
   ],
   "source": [
    "data.median()"
   ]
  },
  {
   "cell_type": "code",
   "execution_count": 19,
   "id": "33ce3c3a",
   "metadata": {},
   "outputs": [
    {
     "data": {
      "text/html": [
       "<div>\n",
       "<style scoped>\n",
       "    .dataframe tbody tr th:only-of-type {\n",
       "        vertical-align: middle;\n",
       "    }\n",
       "\n",
       "    .dataframe tbody tr th {\n",
       "        vertical-align: top;\n",
       "    }\n",
       "\n",
       "    .dataframe thead th {\n",
       "        text-align: right;\n",
       "    }\n",
       "</style>\n",
       "<table border=\"1\" class=\"dataframe\">\n",
       "  <thead>\n",
       "    <tr style=\"text-align: right;\">\n",
       "      <th></th>\n",
       "      <th>price</th>\n",
       "      <th>area</th>\n",
       "      <th>bedrooms</th>\n",
       "      <th>bathrooms</th>\n",
       "      <th>stories</th>\n",
       "      <th>mainroad</th>\n",
       "      <th>guestroom</th>\n",
       "      <th>basement</th>\n",
       "      <th>hotwaterheating</th>\n",
       "      <th>airconditioning</th>\n",
       "      <th>parking</th>\n",
       "      <th>furnishingstatus</th>\n",
       "    </tr>\n",
       "  </thead>\n",
       "  <tbody>\n",
       "    <tr>\n",
       "      <th>0</th>\n",
       "      <td>3500000</td>\n",
       "      <td>6000.0</td>\n",
       "      <td>3.0</td>\n",
       "      <td>1.0</td>\n",
       "      <td>2.0</td>\n",
       "      <td>yes</td>\n",
       "      <td>no</td>\n",
       "      <td>no</td>\n",
       "      <td>no</td>\n",
       "      <td>no</td>\n",
       "      <td>0.0</td>\n",
       "      <td>semi-furnished</td>\n",
       "    </tr>\n",
       "    <tr>\n",
       "      <th>1</th>\n",
       "      <td>4200000</td>\n",
       "      <td>NaN</td>\n",
       "      <td>NaN</td>\n",
       "      <td>NaN</td>\n",
       "      <td>NaN</td>\n",
       "      <td>NaN</td>\n",
       "      <td>NaN</td>\n",
       "      <td>NaN</td>\n",
       "      <td>NaN</td>\n",
       "      <td>NaN</td>\n",
       "      <td>NaN</td>\n",
       "      <td>NaN</td>\n",
       "    </tr>\n",
       "  </tbody>\n",
       "</table>\n",
       "</div>"
      ],
      "text/plain": [
       "     price    area  bedrooms  bathrooms  stories mainroad guestroom basement  \\\n",
       "0  3500000  6000.0       3.0        1.0      2.0      yes        no       no   \n",
       "1  4200000     NaN       NaN        NaN      NaN      NaN       NaN      NaN   \n",
       "\n",
       "  hotwaterheating airconditioning  parking furnishingstatus  \n",
       "0              no              no      0.0   semi-furnished  \n",
       "1             NaN             NaN      NaN              NaN  "
      ]
     },
     "execution_count": 19,
     "metadata": {},
     "output_type": "execute_result"
    }
   ],
   "source": [
    "data.mode()"
   ]
  },
  {
   "cell_type": "code",
   "execution_count": 20,
   "id": "e32c4b50",
   "metadata": {},
   "outputs": [
    {
     "name": "stderr",
     "output_type": "stream",
     "text": [
      "C:\\Users\\gokul\\AppData\\Local\\Temp\\ipykernel_15272\\1188251951.py:1: FutureWarning: The default value of numeric_only in DataFrame.skew is deprecated. In a future version, it will default to False. In addition, specifying 'numeric_only=None' is deprecated. Select only valid columns or specify the value of numeric_only to silence this warning.\n",
      "  data.skew()\n"
     ]
    },
    {
     "data": {
      "text/plain": [
       "price        1.212239\n",
       "area         1.321188\n",
       "bedrooms     0.495684\n",
       "bathrooms    1.589264\n",
       "stories      1.082088\n",
       "parking      0.842062\n",
       "dtype: float64"
      ]
     },
     "execution_count": 20,
     "metadata": {},
     "output_type": "execute_result"
    }
   ],
   "source": [
    "data.skew()"
   ]
  },
  {
   "cell_type": "code",
   "execution_count": 21,
   "id": "30fcac08",
   "metadata": {},
   "outputs": [
    {
     "name": "stderr",
     "output_type": "stream",
     "text": [
      "C:\\Users\\gokul\\AppData\\Local\\Temp\\ipykernel_15272\\4185648501.py:3: UserWarning: \n",
      "\n",
      "`distplot` is a deprecated function and will be removed in seaborn v0.14.0.\n",
      "\n",
      "Please adapt your code to use either `displot` (a figure-level function with\n",
      "similar flexibility) or `histplot` (an axes-level function for histograms).\n",
      "\n",
      "For a guide to updating your code to use the new functions, please see\n",
      "https://gist.github.com/mwaskom/de44147ed2974457ad6372750bbe5751\n",
      "\n",
      "  p1 = sns.distplot(x=data['price'],color='blue', ax = axs[0,0])\n",
      "C:\\Users\\gokul\\AppData\\Local\\Temp\\ipykernel_15272\\4185648501.py:4: UserWarning: \n",
      "\n",
      "`distplot` is a deprecated function and will be removed in seaborn v0.14.0.\n",
      "\n",
      "Please adapt your code to use either `displot` (a figure-level function with\n",
      "similar flexibility) or `histplot` (an axes-level function for histograms).\n",
      "\n",
      "For a guide to updating your code to use the new functions, please see\n",
      "https://gist.github.com/mwaskom/de44147ed2974457ad6372750bbe5751\n",
      "\n",
      "  p2 = sns.distplot(x=data['area'],color='red', ax = axs[0,1])\n",
      "C:\\Users\\gokul\\AppData\\Local\\Temp\\ipykernel_15272\\4185648501.py:5: UserWarning: \n",
      "\n",
      "`distplot` is a deprecated function and will be removed in seaborn v0.14.0.\n",
      "\n",
      "Please adapt your code to use either `displot` (a figure-level function with\n",
      "similar flexibility) or `histplot` (an axes-level function for histograms).\n",
      "\n",
      "For a guide to updating your code to use the new functions, please see\n",
      "https://gist.github.com/mwaskom/de44147ed2974457ad6372750bbe5751\n",
      "\n",
      "  p3 = sns.distplot(x=data['bedrooms'],color='green', ax = axs[0,2])\n",
      "C:\\Users\\gokul\\AppData\\Local\\Temp\\ipykernel_15272\\4185648501.py:6: UserWarning: \n",
      "\n",
      "`distplot` is a deprecated function and will be removed in seaborn v0.14.0.\n",
      "\n",
      "Please adapt your code to use either `displot` (a figure-level function with\n",
      "similar flexibility) or `histplot` (an axes-level function for histograms).\n",
      "\n",
      "For a guide to updating your code to use the new functions, please see\n",
      "https://gist.github.com/mwaskom/de44147ed2974457ad6372750bbe5751\n",
      "\n",
      "  p4 = sns.distplot(x=data['bathrooms'],color='yellow', ax = axs[1,0])\n",
      "C:\\Users\\gokul\\AppData\\Local\\Temp\\ipykernel_15272\\4185648501.py:7: UserWarning: \n",
      "\n",
      "`distplot` is a deprecated function and will be removed in seaborn v0.14.0.\n",
      "\n",
      "Please adapt your code to use either `displot` (a figure-level function with\n",
      "similar flexibility) or `histplot` (an axes-level function for histograms).\n",
      "\n",
      "For a guide to updating your code to use the new functions, please see\n",
      "https://gist.github.com/mwaskom/de44147ed2974457ad6372750bbe5751\n",
      "\n",
      "  p5 = sns.distplot(x=data['stories'],color='orange', ax = axs[1,1])\n",
      "C:\\Users\\gokul\\AppData\\Local\\Temp\\ipykernel_15272\\4185648501.py:8: UserWarning: \n",
      "\n",
      "`distplot` is a deprecated function and will be removed in seaborn v0.14.0.\n",
      "\n",
      "Please adapt your code to use either `displot` (a figure-level function with\n",
      "similar flexibility) or `histplot` (an axes-level function for histograms).\n",
      "\n",
      "For a guide to updating your code to use the new functions, please see\n",
      "https://gist.github.com/mwaskom/de44147ed2974457ad6372750bbe5751\n",
      "\n",
      "  p6 = sns.distplot(x=data['parking'],color='brown', ax = axs[1,2])\n"
     ]
    },
    {
     "data": {
      "image/png": "[encoded data removed]",
      "text/plain": [
       "<Figure size 1500x800 with 6 Axes>"
      ]
     },
     "metadata": {},
     "output_type": "display_data"
    }
   ],
   "source": [
    "# Distplot\n",
    "fig, axs = plt.subplots(2,3, figsize = (15,8))\n",
    "p1 = sns.distplot(x=data['price'],color='blue', ax = axs[0,0])\n",
    "p2 = sns.distplot(x=data['area'],color='red', ax = axs[0,1])\n",
    "p3 = sns.distplot(x=data['bedrooms'],color='green', ax = axs[0,2])\n",
    "p4 = sns.distplot(x=data['bathrooms'],color='yellow', ax = axs[1,0])\n",
    "p5 = sns.distplot(x=data['stories'],color='orange', ax = axs[1,1])\n",
    "p6 = sns.distplot(x=data['parking'],color='brown', ax = axs[1,2])\n",
    "plt.tight_layout()"
   ]
  },
  {
   "cell_type": "code",
   "execution_count": 22,
   "id": "85dfd300",
   "metadata": {},
   "outputs": [
    {
     "name": "stderr",
     "output_type": "stream",
     "text": [
      "C:\\Users\\gokul\\AppData\\Local\\Temp\\ipykernel_15272\\2907027414.py:1: FutureWarning: The default value of numeric_only in DataFrame.kurt is deprecated. In a future version, it will default to False. In addition, specifying 'numeric_only=None' is deprecated. Select only valid columns or specify the value of numeric_only to silence this warning.\n",
      "  data.kurt()\n"
     ]
    },
    {
     "data": {
      "text/plain": [
       "price        1.960130\n",
       "area         2.751480\n",
       "bedrooms     0.728323\n",
       "bathrooms    2.164856\n",
       "stories      0.679404\n",
       "parking     -0.573063\n",
       "dtype: float64"
      ]
     },
     "execution_count": 22,
     "metadata": {},
     "output_type": "execute_result"
    }
   ],
   "source": [
    "data.kurt()"
   ]
  },
  {
   "cell_type": "code",
   "execution_count": 23,
   "id": "47511f85",
   "metadata": {},
   "outputs": [
    {
     "data": {
      "text/plain": [
       "<seaborn.axisgrid.PairGrid at 0x173c0c6fd90>"
      ]
     },
     "execution_count": 23,
     "metadata": {},
     "output_type": "execute_result"
    },
    {
     "data": {
      "image/png": "[encoded data removed]",
      "text/plain": [
       "<Figure size 1500x1500 with 42 Axes>"
      ]
     },
     "metadata": {},
     "output_type": "display_data"
    }
   ],
   "source": [
    "#pairplot\n",
    "sns.pairplot(data)"
   ]
  },
  {
   "cell_type": "code",
   "execution_count": 24,
   "id": "4ee0340b",
   "metadata": {},
   "outputs": [
    {
     "name": "stderr",
     "output_type": "stream",
     "text": [
      "C:\\Users\\gokul\\AppData\\Local\\Temp\\ipykernel_15272\\445316826.py:1: FutureWarning: The default value of numeric_only in DataFrame.var is deprecated. In a future version, it will default to False. In addition, specifying 'numeric_only=None' is deprecated. Select only valid columns or specify the value of numeric_only to silence this warning.\n",
      "  data.var()\n"
     ]
    },
    {
     "data": {
      "text/plain": [
       "price        3.498544e+12\n",
       "area         4.709512e+06\n",
       "bedrooms     5.447383e-01\n",
       "bathrooms    2.524757e-01\n",
       "stories      7.525432e-01\n",
       "parking      7.423300e-01\n",
       "dtype: float64"
      ]
     },
     "execution_count": 24,
     "metadata": {},
     "output_type": "execute_result"
    }
   ],
   "source": [
    "data.var()"
   ]
  },
  {
   "cell_type": "code",
   "execution_count": 25,
   "id": "a13631ca",
   "metadata": {},
   "outputs": [
    {
     "name": "stderr",
     "output_type": "stream",
     "text": [
      "C:\\Users\\gokul\\AppData\\Local\\Temp\\ipykernel_15272\\2723740006.py:1: FutureWarning: The default value of numeric_only in DataFrame.std is deprecated. In a future version, it will default to False. In addition, specifying 'numeric_only=None' is deprecated. Select only valid columns or specify the value of numeric_only to silence this warning.\n",
      "  data.std()\n"
     ]
    },
    {
     "data": {
      "text/plain": [
       "price        1.870440e+06\n",
       "area         2.170141e+03\n",
       "bedrooms     7.380639e-01\n",
       "bathrooms    5.024696e-01\n",
       "stories      8.674925e-01\n",
       "parking      8.615858e-01\n",
       "dtype: float64"
      ]
     },
     "execution_count": 25,
     "metadata": {},
     "output_type": "execute_result"
    }
   ],
   "source": [
    "data.std()"
   ]
  },
  {
   "cell_type": "markdown",
   "id": "7cead0fb",
   "metadata": {},
   "source": [
    "## 5. Check for Missing values and deal with them.\n"
   ]
  },
  {
   "cell_type": "code",
   "execution_count": 26,
   "id": "edb20e13",
   "metadata": {},
   "outputs": [
    {
     "name": "stdout",
     "output_type": "stream",
     "text": [
      "price               0\n",
      "area                0\n",
      "bedrooms            0\n",
      "bathrooms           0\n",
      "stories             0\n",
      "mainroad            0\n",
      "guestroom           0\n",
      "basement            0\n",
      "hotwaterheating     0\n",
      "airconditioning     0\n",
      "parking             0\n",
      "furnishingstatus    0\n",
      "dtype: int64\n"
     ]
    }
   ],
   "source": [
    "print(data.isnull().sum())"
   ]
  },
  {
   "cell_type": "markdown",
   "id": "bc817566",
   "metadata": {},
   "source": [
    "## 6. Find the outliers and replace them outliers\n"
   ]
  },
  {
   "cell_type": "code",
   "execution_count": 27,
   "id": "09c199c0",
   "metadata": {},
   "outputs": [],
   "source": [
    "#Identify the outliers- Interquartile Range\n",
    "Q1 = data['area'].quantile(0.25)\n",
    "Q3 = data['area'].quantile(0.75)"
   ]
  },
  {
   "cell_type": "code",
   "execution_count": 28,
   "id": "bb44133e",
   "metadata": {},
   "outputs": [
    {
     "data": {
      "text/plain": [
       "2760.0"
      ]
     },
     "execution_count": 28,
     "metadata": {},
     "output_type": "execute_result"
    }
   ],
   "source": [
    "IQR = Q3 - Q1\n",
    "IQR"
   ]
  },
  {
   "cell_type": "code",
   "execution_count": 29,
   "id": "caa907ff",
   "metadata": {},
   "outputs": [],
   "source": [
    "lower_bound = Q1 - 1.5 * IQR\n",
    "upper_bound = Q3 + 1.5 * IQR\n",
    "outliers = data[(data['area'] < lower_bound) | (data['area'] > upper_bound)]"
   ]
  },
  {
   "cell_type": "code",
   "execution_count": 30,
   "id": "e45e8895",
   "metadata": {},
   "outputs": [],
   "source": [
    "data['area']=np.where(data['area']>upper_bound,upper_bound,np.where(data['area']<lower_bound,lower_bound,data['area']))"
   ]
  },
  {
   "cell_type": "code",
   "execution_count": 31,
   "id": "56ad3027",
   "metadata": {},
   "outputs": [
    {
     "data": {
      "image/png": "[encoded data removed]",
      "text/plain": [
       "<Figure size 640x480 with 1 Axes>"
      ]
     },
     "metadata": {},
     "output_type": "display_data"
    }
   ],
   "source": [
    "#Verify the replacement\n",
    "sns.boxplot(x=data['area'])\n",
    "plt.show()"
   ]
  },
  {
   "cell_type": "markdown",
   "id": "664b5996",
   "metadata": {},
   "source": [
    "## 7. Check for Categorical columns and perform encoding.\n"
   ]
  },
  {
   "cell_type": "code",
   "execution_count": 32,
   "id": "ae7405e0",
   "metadata": {},
   "outputs": [],
   "source": [
    "from sklearn.preprocessing import LabelEncoder"
   ]
  },
  {
   "cell_type": "code",
   "execution_count": 33,
   "id": "fdc1e405",
   "metadata": {},
   "outputs": [],
   "source": [
    "le=LabelEncoder()"
   ]
  },
  {
   "cell_type": "code",
   "execution_count": 34,
   "id": "fd13c9d4",
   "metadata": {},
   "outputs": [],
   "source": [
    "data.mainroad=le.fit_transform(data.mainroad)\n",
    "data.guestroom=le.fit_transform(data.guestroom)\n",
    "data.basement=le.fit_transform(data.basement)\n",
    "data.hotwaterheating=le.fit_transform(data.hotwaterheating)\n",
    "data.airconditioning=le.fit_transform(data.airconditioning)\n",
    "data.furnishingstatus=le.fit_transform(data.furnishingstatus)"
   ]
  },
  {
   "cell_type": "code",
   "execution_count": 35,
   "id": "a76a06ae",
   "metadata": {},
   "outputs": [
    {
     "data": {
      "text/html": [
       "<div>\n",
       "<style scoped>\n",
       "    .dataframe tbody tr th:only-of-type {\n",
       "        vertical-align: middle;\n",
       "    }\n",
       "\n",
       "    .dataframe tbody tr th {\n",
       "        vertical-align: top;\n",
       "    }\n",
       "\n",
       "    .dataframe thead th {\n",
       "        text-align: right;\n",
       "    }\n",
       "</style>\n",
       "<table border=\"1\" class=\"dataframe\">\n",
       "  <thead>\n",
       "    <tr style=\"text-align: right;\">\n",
       "      <th></th>\n",
       "      <th>price</th>\n",
       "      <th>area</th>\n",
       "      <th>bedrooms</th>\n",
       "      <th>bathrooms</th>\n",
       "      <th>stories</th>\n",
       "      <th>mainroad</th>\n",
       "      <th>guestroom</th>\n",
       "      <th>basement</th>\n",
       "      <th>hotwaterheating</th>\n",
       "      <th>airconditioning</th>\n",
       "      <th>parking</th>\n",
       "      <th>furnishingstatus</th>\n",
       "    </tr>\n",
       "  </thead>\n",
       "  <tbody>\n",
       "    <tr>\n",
       "      <th>0</th>\n",
       "      <td>13300000</td>\n",
       "      <td>7420.0</td>\n",
       "      <td>4</td>\n",
       "      <td>2</td>\n",
       "      <td>3</td>\n",
       "      <td>1</td>\n",
       "      <td>0</td>\n",
       "      <td>0</td>\n",
       "      <td>0</td>\n",
       "      <td>1</td>\n",
       "      <td>2</td>\n",
       "      <td>0</td>\n",
       "    </tr>\n",
       "    <tr>\n",
       "      <th>1</th>\n",
       "      <td>12250000</td>\n",
       "      <td>8960.0</td>\n",
       "      <td>4</td>\n",
       "      <td>4</td>\n",
       "      <td>4</td>\n",
       "      <td>1</td>\n",
       "      <td>0</td>\n",
       "      <td>0</td>\n",
       "      <td>0</td>\n",
       "      <td>1</td>\n",
       "      <td>3</td>\n",
       "      <td>0</td>\n",
       "    </tr>\n",
       "    <tr>\n",
       "      <th>2</th>\n",
       "      <td>12250000</td>\n",
       "      <td>9960.0</td>\n",
       "      <td>3</td>\n",
       "      <td>2</td>\n",
       "      <td>2</td>\n",
       "      <td>1</td>\n",
       "      <td>0</td>\n",
       "      <td>1</td>\n",
       "      <td>0</td>\n",
       "      <td>0</td>\n",
       "      <td>2</td>\n",
       "      <td>1</td>\n",
       "    </tr>\n",
       "    <tr>\n",
       "      <th>3</th>\n",
       "      <td>12215000</td>\n",
       "      <td>7500.0</td>\n",
       "      <td>4</td>\n",
       "      <td>2</td>\n",
       "      <td>2</td>\n",
       "      <td>1</td>\n",
       "      <td>0</td>\n",
       "      <td>1</td>\n",
       "      <td>0</td>\n",
       "      <td>1</td>\n",
       "      <td>3</td>\n",
       "      <td>0</td>\n",
       "    </tr>\n",
       "    <tr>\n",
       "      <th>4</th>\n",
       "      <td>11410000</td>\n",
       "      <td>7420.0</td>\n",
       "      <td>4</td>\n",
       "      <td>1</td>\n",
       "      <td>2</td>\n",
       "      <td>1</td>\n",
       "      <td>1</td>\n",
       "      <td>1</td>\n",
       "      <td>0</td>\n",
       "      <td>1</td>\n",
       "      <td>2</td>\n",
       "      <td>0</td>\n",
       "    </tr>\n",
       "  </tbody>\n",
       "</table>\n",
       "</div>"
      ],
      "text/plain": [
       "      price    area  bedrooms  bathrooms  stories  mainroad  guestroom  \\\n",
       "0  13300000  7420.0         4          2        3         1          0   \n",
       "1  12250000  8960.0         4          4        4         1          0   \n",
       "2  12250000  9960.0         3          2        2         1          0   \n",
       "3  12215000  7500.0         4          2        2         1          0   \n",
       "4  11410000  7420.0         4          1        2         1          1   \n",
       "\n",
       "   basement  hotwaterheating  airconditioning  parking  furnishingstatus  \n",
       "0         0                0                1        2                 0  \n",
       "1         0                0                1        3                 0  \n",
       "2         1                0                0        2                 1  \n",
       "3         1                0                1        3                 0  \n",
       "4         1                0                1        2                 0  "
      ]
     },
     "execution_count": 35,
     "metadata": {},
     "output_type": "execute_result"
    }
   ],
   "source": [
    "data.head()"
   ]
  },
  {
   "cell_type": "markdown",
   "id": "cd23daef",
   "metadata": {},
   "source": [
    "## 8. Split the data into dependent and independent variables. \n"
   ]
  },
  {
   "cell_type": "code",
   "execution_count": 36,
   "id": "ecf58e6d",
   "metadata": {},
   "outputs": [],
   "source": [
    "# Y is dependent variable(target variable)\n",
    "y = data['price']"
   ]
  },
  {
   "cell_type": "code",
   "execution_count": 37,
   "id": "e8841277",
   "metadata": {},
   "outputs": [
    {
     "data": {
      "text/plain": [
       "0    13300000\n",
       "1    12250000\n",
       "2    12250000\n",
       "3    12215000\n",
       "4    11410000\n",
       "Name: price, dtype: int64"
      ]
     },
     "execution_count": 37,
     "metadata": {},
     "output_type": "execute_result"
    }
   ],
   "source": [
    "y.head()"
   ]
  },
  {
   "cell_type": "code",
   "execution_count": 38,
   "id": "b391d31a",
   "metadata": {},
   "outputs": [],
   "source": [
    "# X is independent variable or features used to predict the dependent variable.\n",
    "X=data.drop(columns=['hotwaterheating'],axis=1)  ##doesn't impact the price of the house\n",
    "X=data.drop(columns=['price'],axis=1)  ##price is an dependent variable"
   ]
  },
  {
   "cell_type": "code",
   "execution_count": 39,
   "id": "063f5d8b",
   "metadata": {},
   "outputs": [
    {
     "data": {
      "text/html": [
       "<div>\n",
       "<style scoped>\n",
       "    .dataframe tbody tr th:only-of-type {\n",
       "        vertical-align: middle;\n",
       "    }\n",
       "\n",
       "    .dataframe tbody tr th {\n",
       "        vertical-align: top;\n",
       "    }\n",
       "\n",
       "    .dataframe thead th {\n",
       "        text-align: right;\n",
       "    }\n",
       "</style>\n",
       "<table border=\"1\" class=\"dataframe\">\n",
       "  <thead>\n",
       "    <tr style=\"text-align: right;\">\n",
       "      <th></th>\n",
       "      <th>area</th>\n",
       "      <th>bedrooms</th>\n",
       "      <th>bathrooms</th>\n",
       "      <th>stories</th>\n",
       "      <th>mainroad</th>\n",
       "      <th>guestroom</th>\n",
       "      <th>basement</th>\n",
       "      <th>hotwaterheating</th>\n",
       "      <th>airconditioning</th>\n",
       "      <th>parking</th>\n",
       "      <th>furnishingstatus</th>\n",
       "    </tr>\n",
       "  </thead>\n",
       "  <tbody>\n",
       "    <tr>\n",
       "      <th>0</th>\n",
       "      <td>7420.0</td>\n",
       "      <td>4</td>\n",
       "      <td>2</td>\n",
       "      <td>3</td>\n",
       "      <td>1</td>\n",
       "      <td>0</td>\n",
       "      <td>0</td>\n",
       "      <td>0</td>\n",
       "      <td>1</td>\n",
       "      <td>2</td>\n",
       "      <td>0</td>\n",
       "    </tr>\n",
       "    <tr>\n",
       "      <th>1</th>\n",
       "      <td>8960.0</td>\n",
       "      <td>4</td>\n",
       "      <td>4</td>\n",
       "      <td>4</td>\n",
       "      <td>1</td>\n",
       "      <td>0</td>\n",
       "      <td>0</td>\n",
       "      <td>0</td>\n",
       "      <td>1</td>\n",
       "      <td>3</td>\n",
       "      <td>0</td>\n",
       "    </tr>\n",
       "    <tr>\n",
       "      <th>2</th>\n",
       "      <td>9960.0</td>\n",
       "      <td>3</td>\n",
       "      <td>2</td>\n",
       "      <td>2</td>\n",
       "      <td>1</td>\n",
       "      <td>0</td>\n",
       "      <td>1</td>\n",
       "      <td>0</td>\n",
       "      <td>0</td>\n",
       "      <td>2</td>\n",
       "      <td>1</td>\n",
       "    </tr>\n",
       "    <tr>\n",
       "      <th>3</th>\n",
       "      <td>7500.0</td>\n",
       "      <td>4</td>\n",
       "      <td>2</td>\n",
       "      <td>2</td>\n",
       "      <td>1</td>\n",
       "      <td>0</td>\n",
       "      <td>1</td>\n",
       "      <td>0</td>\n",
       "      <td>1</td>\n",
       "      <td>3</td>\n",
       "      <td>0</td>\n",
       "    </tr>\n",
       "    <tr>\n",
       "      <th>4</th>\n",
       "      <td>7420.0</td>\n",
       "      <td>4</td>\n",
       "      <td>1</td>\n",
       "      <td>2</td>\n",
       "      <td>1</td>\n",
       "      <td>1</td>\n",
       "      <td>1</td>\n",
       "      <td>0</td>\n",
       "      <td>1</td>\n",
       "      <td>2</td>\n",
       "      <td>0</td>\n",
       "    </tr>\n",
       "  </tbody>\n",
       "</table>\n",
       "</div>"
      ],
      "text/plain": [
       "     area  bedrooms  bathrooms  stories  mainroad  guestroom  basement  \\\n",
       "0  7420.0         4          2        3         1          0         0   \n",
       "1  8960.0         4          4        4         1          0         0   \n",
       "2  9960.0         3          2        2         1          0         1   \n",
       "3  7500.0         4          2        2         1          0         1   \n",
       "4  7420.0         4          1        2         1          1         1   \n",
       "\n",
       "   hotwaterheating  airconditioning  parking  furnishingstatus  \n",
       "0                0                1        2                 0  \n",
       "1                0                1        3                 0  \n",
       "2                0                0        2                 1  \n",
       "3                0                1        3                 0  \n",
       "4                0                1        2                 0  "
      ]
     },
     "execution_count": 39,
     "metadata": {},
     "output_type": "execute_result"
    }
   ],
   "source": [
    "X.head()"
   ]
  },
  {
   "cell_type": "markdown",
   "id": "c4de5d29",
   "metadata": {},
   "source": [
    "## 9. Scale the independent variables\n"
   ]
  },
  {
   "cell_type": "code",
   "execution_count": 40,
   "id": "0a710e81",
   "metadata": {},
   "outputs": [],
   "source": [
    "ab = data[['area', 'bedrooms', 'bathrooms', 'stories', 'parking','price']]"
   ]
  },
  {
   "cell_type": "code",
   "execution_count": 41,
   "id": "84cbaf2c",
   "metadata": {},
   "outputs": [],
   "source": [
    "from sklearn.preprocessing import MinMaxScaler"
   ]
  },
  {
   "cell_type": "code",
   "execution_count": 42,
   "id": "e344c27a",
   "metadata": {},
   "outputs": [],
   "source": [
    "min_max=MinMaxScaler()\n",
    "norm=min_max.fit_transform(ab)"
   ]
  },
  {
   "cell_type": "code",
   "execution_count": 43,
   "id": "b937aeab",
   "metadata": {},
   "outputs": [
    {
     "data": {
      "text/plain": [
       "array([[0.6519774 , 0.6       , 0.33333333, 0.66666667, 0.66666667,\n",
       "        1.        ],\n",
       "       [0.8259887 , 0.6       , 1.        , 1.        , 1.        ,\n",
       "        0.90909091],\n",
       "       [0.93898305, 0.4       , 0.33333333, 0.33333333, 0.66666667,\n",
       "        0.90909091],\n",
       "       ...,\n",
       "       [0.22259887, 0.2       , 0.        , 0.        , 0.        ,\n",
       "        0.        ],\n",
       "       [0.14237288, 0.4       , 0.        , 0.        , 0.        ,\n",
       "        0.        ],\n",
       "       [0.24858757, 0.4       , 0.        , 0.33333333, 0.        ,\n",
       "        0.        ]])"
      ]
     },
     "execution_count": 43,
     "metadata": {},
     "output_type": "execute_result"
    }
   ],
   "source": [
    "norm"
   ]
  },
  {
   "cell_type": "code",
   "execution_count": 44,
   "id": "174d05fe",
   "metadata": {},
   "outputs": [
    {
     "data": {
      "text/html": [
       "<div>\n",
       "<style scoped>\n",
       "    .dataframe tbody tr th:only-of-type {\n",
       "        vertical-align: middle;\n",
       "    }\n",
       "\n",
       "    .dataframe tbody tr th {\n",
       "        vertical-align: top;\n",
       "    }\n",
       "\n",
       "    .dataframe thead th {\n",
       "        text-align: right;\n",
       "    }\n",
       "</style>\n",
       "<table border=\"1\" class=\"dataframe\">\n",
       "  <thead>\n",
       "    <tr style=\"text-align: right;\">\n",
       "      <th></th>\n",
       "      <th>0</th>\n",
       "      <th>1</th>\n",
       "      <th>2</th>\n",
       "      <th>3</th>\n",
       "      <th>4</th>\n",
       "      <th>5</th>\n",
       "    </tr>\n",
       "  </thead>\n",
       "  <tbody>\n",
       "    <tr>\n",
       "      <th>0</th>\n",
       "      <td>0.651977</td>\n",
       "      <td>0.6</td>\n",
       "      <td>0.333333</td>\n",
       "      <td>0.666667</td>\n",
       "      <td>0.666667</td>\n",
       "      <td>1.000000</td>\n",
       "    </tr>\n",
       "    <tr>\n",
       "      <th>1</th>\n",
       "      <td>0.825989</td>\n",
       "      <td>0.6</td>\n",
       "      <td>1.000000</td>\n",
       "      <td>1.000000</td>\n",
       "      <td>1.000000</td>\n",
       "      <td>0.909091</td>\n",
       "    </tr>\n",
       "    <tr>\n",
       "      <th>2</th>\n",
       "      <td>0.938983</td>\n",
       "      <td>0.4</td>\n",
       "      <td>0.333333</td>\n",
       "      <td>0.333333</td>\n",
       "      <td>0.666667</td>\n",
       "      <td>0.909091</td>\n",
       "    </tr>\n",
       "    <tr>\n",
       "      <th>3</th>\n",
       "      <td>0.661017</td>\n",
       "      <td>0.6</td>\n",
       "      <td>0.333333</td>\n",
       "      <td>0.333333</td>\n",
       "      <td>1.000000</td>\n",
       "      <td>0.906061</td>\n",
       "    </tr>\n",
       "    <tr>\n",
       "      <th>4</th>\n",
       "      <td>0.651977</td>\n",
       "      <td>0.6</td>\n",
       "      <td>0.000000</td>\n",
       "      <td>0.333333</td>\n",
       "      <td>0.666667</td>\n",
       "      <td>0.836364</td>\n",
       "    </tr>\n",
       "    <tr>\n",
       "      <th>...</th>\n",
       "      <td>...</td>\n",
       "      <td>...</td>\n",
       "      <td>...</td>\n",
       "      <td>...</td>\n",
       "      <td>...</td>\n",
       "      <td>...</td>\n",
       "    </tr>\n",
       "    <tr>\n",
       "      <th>540</th>\n",
       "      <td>0.152542</td>\n",
       "      <td>0.2</td>\n",
       "      <td>0.000000</td>\n",
       "      <td>0.000000</td>\n",
       "      <td>0.666667</td>\n",
       "      <td>0.006061</td>\n",
       "    </tr>\n",
       "    <tr>\n",
       "      <th>541</th>\n",
       "      <td>0.084746</td>\n",
       "      <td>0.4</td>\n",
       "      <td>0.000000</td>\n",
       "      <td>0.000000</td>\n",
       "      <td>0.000000</td>\n",
       "      <td>0.001485</td>\n",
       "    </tr>\n",
       "    <tr>\n",
       "      <th>542</th>\n",
       "      <td>0.222599</td>\n",
       "      <td>0.2</td>\n",
       "      <td>0.000000</td>\n",
       "      <td>0.000000</td>\n",
       "      <td>0.000000</td>\n",
       "      <td>0.000000</td>\n",
       "    </tr>\n",
       "    <tr>\n",
       "      <th>543</th>\n",
       "      <td>0.142373</td>\n",
       "      <td>0.4</td>\n",
       "      <td>0.000000</td>\n",
       "      <td>0.000000</td>\n",
       "      <td>0.000000</td>\n",
       "      <td>0.000000</td>\n",
       "    </tr>\n",
       "    <tr>\n",
       "      <th>544</th>\n",
       "      <td>0.248588</td>\n",
       "      <td>0.4</td>\n",
       "      <td>0.000000</td>\n",
       "      <td>0.333333</td>\n",
       "      <td>0.000000</td>\n",
       "      <td>0.000000</td>\n",
       "    </tr>\n",
       "  </tbody>\n",
       "</table>\n",
       "<p>545 rows × 6 columns</p>\n",
       "</div>"
      ],
      "text/plain": [
       "            0    1         2         3         4         5\n",
       "0    0.651977  0.6  0.333333  0.666667  0.666667  1.000000\n",
       "1    0.825989  0.6  1.000000  1.000000  1.000000  0.909091\n",
       "2    0.938983  0.4  0.333333  0.333333  0.666667  0.909091\n",
       "3    0.661017  0.6  0.333333  0.333333  1.000000  0.906061\n",
       "4    0.651977  0.6  0.000000  0.333333  0.666667  0.836364\n",
       "..        ...  ...       ...       ...       ...       ...\n",
       "540  0.152542  0.2  0.000000  0.000000  0.666667  0.006061\n",
       "541  0.084746  0.4  0.000000  0.000000  0.000000  0.001485\n",
       "542  0.222599  0.2  0.000000  0.000000  0.000000  0.000000\n",
       "543  0.142373  0.4  0.000000  0.000000  0.000000  0.000000\n",
       "544  0.248588  0.4  0.000000  0.333333  0.000000  0.000000\n",
       "\n",
       "[545 rows x 6 columns]"
      ]
     },
     "execution_count": 44,
     "metadata": {},
     "output_type": "execute_result"
    }
   ],
   "source": [
    "pd.DataFrame(norm)"
   ]
  },
  {
   "cell_type": "markdown",
   "id": "bc974b15",
   "metadata": {},
   "source": [
    "## 10. Split the data into training and testing\n"
   ]
  },
  {
   "cell_type": "code",
   "execution_count": 45,
   "id": "ab8ea878",
   "metadata": {},
   "outputs": [],
   "source": [
    "from sklearn.model_selection import train_test_split"
   ]
  },
  {
   "cell_type": "code",
   "execution_count": 46,
   "id": "62ea5de5",
   "metadata": {},
   "outputs": [],
   "source": [
    "X_train,X_test,y_train,y_test=train_test_split(X,y,test_size=0.2,random_state=0)"
   ]
  },
  {
   "cell_type": "code",
   "execution_count": 47,
   "id": "1c10f65a",
   "metadata": {},
   "outputs": [
    {
     "data": {
      "text/html": [
       "<div>\n",
       "<style scoped>\n",
       "    .dataframe tbody tr th:only-of-type {\n",
       "        vertical-align: middle;\n",
       "    }\n",
       "\n",
       "    .dataframe tbody tr th {\n",
       "        vertical-align: top;\n",
       "    }\n",
       "\n",
       "    .dataframe thead th {\n",
       "        text-align: right;\n",
       "    }\n",
       "</style>\n",
       "<table border=\"1\" class=\"dataframe\">\n",
       "  <thead>\n",
       "    <tr style=\"text-align: right;\">\n",
       "      <th></th>\n",
       "      <th>area</th>\n",
       "      <th>bedrooms</th>\n",
       "      <th>bathrooms</th>\n",
       "      <th>stories</th>\n",
       "      <th>mainroad</th>\n",
       "      <th>guestroom</th>\n",
       "      <th>basement</th>\n",
       "      <th>hotwaterheating</th>\n",
       "      <th>airconditioning</th>\n",
       "      <th>parking</th>\n",
       "      <th>furnishingstatus</th>\n",
       "    </tr>\n",
       "  </thead>\n",
       "  <tbody>\n",
       "    <tr>\n",
       "      <th>542</th>\n",
       "      <td>3620.0</td>\n",
       "      <td>2</td>\n",
       "      <td>1</td>\n",
       "      <td>1</td>\n",
       "      <td>1</td>\n",
       "      <td>0</td>\n",
       "      <td>0</td>\n",
       "      <td>0</td>\n",
       "      <td>0</td>\n",
       "      <td>0</td>\n",
       "      <td>2</td>\n",
       "    </tr>\n",
       "    <tr>\n",
       "      <th>496</th>\n",
       "      <td>4000.0</td>\n",
       "      <td>2</td>\n",
       "      <td>1</td>\n",
       "      <td>1</td>\n",
       "      <td>1</td>\n",
       "      <td>0</td>\n",
       "      <td>0</td>\n",
       "      <td>0</td>\n",
       "      <td>0</td>\n",
       "      <td>0</td>\n",
       "      <td>2</td>\n",
       "    </tr>\n",
       "    <tr>\n",
       "      <th>484</th>\n",
       "      <td>3040.0</td>\n",
       "      <td>2</td>\n",
       "      <td>1</td>\n",
       "      <td>1</td>\n",
       "      <td>0</td>\n",
       "      <td>0</td>\n",
       "      <td>0</td>\n",
       "      <td>0</td>\n",
       "      <td>0</td>\n",
       "      <td>0</td>\n",
       "      <td>2</td>\n",
       "    </tr>\n",
       "    <tr>\n",
       "      <th>507</th>\n",
       "      <td>3600.0</td>\n",
       "      <td>2</td>\n",
       "      <td>1</td>\n",
       "      <td>1</td>\n",
       "      <td>1</td>\n",
       "      <td>0</td>\n",
       "      <td>0</td>\n",
       "      <td>0</td>\n",
       "      <td>0</td>\n",
       "      <td>0</td>\n",
       "      <td>2</td>\n",
       "    </tr>\n",
       "    <tr>\n",
       "      <th>252</th>\n",
       "      <td>9860.0</td>\n",
       "      <td>3</td>\n",
       "      <td>1</td>\n",
       "      <td>1</td>\n",
       "      <td>1</td>\n",
       "      <td>0</td>\n",
       "      <td>0</td>\n",
       "      <td>0</td>\n",
       "      <td>0</td>\n",
       "      <td>0</td>\n",
       "      <td>1</td>\n",
       "    </tr>\n",
       "  </tbody>\n",
       "</table>\n",
       "</div>"
      ],
      "text/plain": [
       "       area  bedrooms  bathrooms  stories  mainroad  guestroom  basement  \\\n",
       "542  3620.0         2          1        1         1          0         0   \n",
       "496  4000.0         2          1        1         1          0         0   \n",
       "484  3040.0         2          1        1         0          0         0   \n",
       "507  3600.0         2          1        1         1          0         0   \n",
       "252  9860.0         3          1        1         1          0         0   \n",
       "\n",
       "     hotwaterheating  airconditioning  parking  furnishingstatus  \n",
       "542                0                0        0                 2  \n",
       "496                0                0        0                 2  \n",
       "484                0                0        0                 2  \n",
       "507                0                0        0                 2  \n",
       "252                0                0        0                 1  "
      ]
     },
     "execution_count": 47,
     "metadata": {},
     "output_type": "execute_result"
    }
   ],
   "source": [
    "X_train.head()"
   ]
  },
  {
   "cell_type": "code",
   "execution_count": 48,
   "id": "001a24a6",
   "metadata": {},
   "outputs": [
    {
     "data": {
      "text/html": [
       "<div>\n",
       "<style scoped>\n",
       "    .dataframe tbody tr th:only-of-type {\n",
       "        vertical-align: middle;\n",
       "    }\n",
       "\n",
       "    .dataframe tbody tr th {\n",
       "        vertical-align: top;\n",
       "    }\n",
       "\n",
       "    .dataframe thead th {\n",
       "        text-align: right;\n",
       "    }\n",
       "</style>\n",
       "<table border=\"1\" class=\"dataframe\">\n",
       "  <thead>\n",
       "    <tr style=\"text-align: right;\">\n",
       "      <th></th>\n",
       "      <th>area</th>\n",
       "      <th>bedrooms</th>\n",
       "      <th>bathrooms</th>\n",
       "      <th>stories</th>\n",
       "      <th>mainroad</th>\n",
       "      <th>guestroom</th>\n",
       "      <th>basement</th>\n",
       "      <th>hotwaterheating</th>\n",
       "      <th>airconditioning</th>\n",
       "      <th>parking</th>\n",
       "      <th>furnishingstatus</th>\n",
       "    </tr>\n",
       "  </thead>\n",
       "  <tbody>\n",
       "    <tr>\n",
       "      <th>239</th>\n",
       "      <td>4000.0</td>\n",
       "      <td>3</td>\n",
       "      <td>1</td>\n",
       "      <td>2</td>\n",
       "      <td>1</td>\n",
       "      <td>0</td>\n",
       "      <td>0</td>\n",
       "      <td>0</td>\n",
       "      <td>0</td>\n",
       "      <td>1</td>\n",
       "      <td>0</td>\n",
       "    </tr>\n",
       "    <tr>\n",
       "      <th>113</th>\n",
       "      <td>9620.0</td>\n",
       "      <td>3</td>\n",
       "      <td>1</td>\n",
       "      <td>1</td>\n",
       "      <td>1</td>\n",
       "      <td>0</td>\n",
       "      <td>1</td>\n",
       "      <td>0</td>\n",
       "      <td>0</td>\n",
       "      <td>2</td>\n",
       "      <td>0</td>\n",
       "    </tr>\n",
       "    <tr>\n",
       "      <th>325</th>\n",
       "      <td>3460.0</td>\n",
       "      <td>4</td>\n",
       "      <td>1</td>\n",
       "      <td>2</td>\n",
       "      <td>1</td>\n",
       "      <td>0</td>\n",
       "      <td>0</td>\n",
       "      <td>0</td>\n",
       "      <td>1</td>\n",
       "      <td>0</td>\n",
       "      <td>1</td>\n",
       "    </tr>\n",
       "    <tr>\n",
       "      <th>66</th>\n",
       "      <td>10500.0</td>\n",
       "      <td>2</td>\n",
       "      <td>1</td>\n",
       "      <td>1</td>\n",
       "      <td>1</td>\n",
       "      <td>0</td>\n",
       "      <td>1</td>\n",
       "      <td>1</td>\n",
       "      <td>0</td>\n",
       "      <td>1</td>\n",
       "      <td>0</td>\n",
       "    </tr>\n",
       "    <tr>\n",
       "      <th>479</th>\n",
       "      <td>3660.0</td>\n",
       "      <td>4</td>\n",
       "      <td>1</td>\n",
       "      <td>2</td>\n",
       "      <td>0</td>\n",
       "      <td>0</td>\n",
       "      <td>0</td>\n",
       "      <td>0</td>\n",
       "      <td>0</td>\n",
       "      <td>0</td>\n",
       "      <td>2</td>\n",
       "    </tr>\n",
       "  </tbody>\n",
       "</table>\n",
       "</div>"
      ],
      "text/plain": [
       "        area  bedrooms  bathrooms  stories  mainroad  guestroom  basement  \\\n",
       "239   4000.0         3          1        2         1          0         0   \n",
       "113   9620.0         3          1        1         1          0         1   \n",
       "325   3460.0         4          1        2         1          0         0   \n",
       "66   10500.0         2          1        1         1          0         1   \n",
       "479   3660.0         4          1        2         0          0         0   \n",
       "\n",
       "     hotwaterheating  airconditioning  parking  furnishingstatus  \n",
       "239                0                0        1                 0  \n",
       "113                0                0        2                 0  \n",
       "325                0                1        0                 1  \n",
       "66                 1                0        1                 0  \n",
       "479                0                0        0                 2  "
      ]
     },
     "execution_count": 48,
     "metadata": {},
     "output_type": "execute_result"
    }
   ],
   "source": [
    "X_test.head()"
   ]
  },
  {
   "cell_type": "code",
   "execution_count": 49,
   "id": "7aace49d",
   "metadata": {},
   "outputs": [
    {
     "data": {
      "text/plain": [
       "542    1750000\n",
       "496    2695000\n",
       "484    2870000\n",
       "507    2590000\n",
       "252    4515000\n",
       "        ...   \n",
       "70     6790000\n",
       "277    4305000\n",
       "9      9800000\n",
       "359    3710000\n",
       "192    5040000\n",
       "Name: price, Length: 436, dtype: int64"
      ]
     },
     "execution_count": 49,
     "metadata": {},
     "output_type": "execute_result"
    }
   ],
   "source": [
    "y_train"
   ]
  },
  {
   "cell_type": "code",
   "execution_count": 50,
   "id": "5808df79",
   "metadata": {},
   "outputs": [
    {
     "data": {
      "text/plain": [
       "239    4585000\n",
       "113    6083000\n",
       "325    4007500\n",
       "66     6930000\n",
       "479    2940000\n",
       "        ...   \n",
       "76     6650000\n",
       "132    5810000\n",
       "311    4123000\n",
       "464    3080000\n",
       "155    5530000\n",
       "Name: price, Length: 109, dtype: int64"
      ]
     },
     "execution_count": 50,
     "metadata": {},
     "output_type": "execute_result"
    }
   ],
   "source": [
    "y_test"
   ]
  },
  {
   "cell_type": "markdown",
   "id": "3b2fd594",
   "metadata": {},
   "source": [
    "## 11. Build the Model\n",
    "    ## 12. Train the Model\n",
    "    ## 13. Test the Model\n",
    "    ## 14. Measure the performance using Metrics.\n"
   ]
  },
  {
   "cell_type": "markdown",
   "id": "c86ed7c1",
   "metadata": {},
   "source": [
    "# Linear Regression"
   ]
  },
  {
   "cell_type": "code",
   "execution_count": 51,
   "id": "1bad16ca",
   "metadata": {},
   "outputs": [],
   "source": [
    "#Model Building--Linear Regression\n",
    "from sklearn.linear_model import LinearRegression\n",
    "lr=LinearRegression()"
   ]
  },
  {
   "cell_type": "code",
   "execution_count": 52,
   "id": "9a3b0c61",
   "metadata": {},
   "outputs": [
    {
     "data": {
      "text/html": [
       "<style>#sk-container-id-1 {color: black;background-color: white;}#sk-container-id-1 pre{padding: 0;}#sk-container-id-1 div.sk-toggleable {background-color: white;}#sk-container-id-1 label.sk-toggleable__label {cursor: pointer;display: block;width: 100%;margin-bottom: 0;padding: 0.3em;box-sizing: border-box;text-align: center;}#sk-container-id-1 label.sk-toggleable__label-arrow:before {content: \"▸\";float: left;margin-right: 0.25em;color: #696969;}#sk-container-id-1 label.sk-toggleable__label-arrow:hover:before {color: black;}#sk-container-id-1 div.sk-estimator:hover label.sk-toggleable__label-arrow:before {color: black;}#sk-container-id-1 div.sk-toggleable__content {max-height: 0;max-width: 0;overflow: hidden;text-align: left;background-color: #f0f8ff;}#sk-container-id-1 div.sk-toggleable__content pre {margin: 0.2em;color: black;border-radius: 0.25em;background-color: #f0f8ff;}#sk-container-id-1 input.sk-toggleable__control:checked~div.sk-toggleable__content {max-height: 200px;max-width: 100%;overflow: auto;}#sk-container-id-1 input.sk-toggleable__control:checked~label.sk-toggleable__label-arrow:before {content: \"▾\";}#sk-container-id-1 div.sk-estimator input.sk-toggleable__control:checked~label.sk-toggleable__label {background-color: #d4ebff;}#sk-container-id-1 div.sk-label input.sk-toggleable__control:checked~label.sk-toggleable__label {background-color: #d4ebff;}#sk-container-id-1 input.sk-hidden--visually {border: 0;clip: rect(1px 1px 1px 1px);clip: rect(1px, 1px, 1px, 1px);height: 1px;margin: -1px;overflow: hidden;padding: 0;position: absolute;width: 1px;}#sk-container-id-1 div.sk-estimator {font-family: monospace;background-color: #f0f8ff;border: 1px dotted black;border-radius: 0.25em;box-sizing: border-box;margin-bottom: 0.5em;}#sk-container-id-1 div.sk-estimator:hover {background-color: #d4ebff;}#sk-container-id-1 div.sk-parallel-item::after {content: \"\";width: 100%;border-bottom: 1px solid gray;flex-grow: 1;}#sk-container-id-1 div.sk-label:hover label.sk-toggleable__label {background-color: #d4ebff;}#sk-container-id-1 div.sk-serial::before {content: \"\";position: absolute;border-left: 1px solid gray;box-sizing: border-box;top: 0;bottom: 0;left: 50%;z-index: 0;}#sk-container-id-1 div.sk-serial {display: flex;flex-direction: column;align-items: center;background-color: white;padding-right: 0.2em;padding-left: 0.2em;position: relative;}#sk-container-id-1 div.sk-item {position: relative;z-index: 1;}#sk-container-id-1 div.sk-parallel {display: flex;align-items: stretch;justify-content: center;background-color: white;position: relative;}#sk-container-id-1 div.sk-item::before, #sk-container-id-1 div.sk-parallel-item::before {content: \"\";position: absolute;border-left: 1px solid gray;box-sizing: border-box;top: 0;bottom: 0;left: 50%;z-index: -1;}#sk-container-id-1 div.sk-parallel-item {display: flex;flex-direction: column;z-index: 1;position: relative;background-color: white;}#sk-container-id-1 div.sk-parallel-item:first-child::after {align-self: flex-end;width: 50%;}#sk-container-id-1 div.sk-parallel-item:last-child::after {align-self: flex-start;width: 50%;}#sk-container-id-1 div.sk-parallel-item:only-child::after {width: 0;}#sk-container-id-1 div.sk-dashed-wrapped {border: 1px dashed gray;margin: 0 0.4em 0.5em 0.4em;box-sizing: border-box;padding-bottom: 0.4em;background-color: white;}#sk-container-id-1 div.sk-label label {font-family: monospace;font-weight: bold;display: inline-block;line-height: 1.2em;}#sk-container-id-1 div.sk-label-container {text-align: center;}#sk-container-id-1 div.sk-container {/* jupyter's `normalize.less` sets `[hidden] { display: none; }` but bootstrap.min.css set `[hidden] { display: none !important; }` so we also need the `!important` here to be able to override the default hidden behavior on the sphinx rendered scikit-learn.org. See: https://github.com/scikit-learn/scikit-learn/issues/21755 */display: inline-block !important;position: relative;}#sk-container-id-1 div.sk-text-repr-fallback {display: none;}</style><div id=\"sk-container-id-1\" class=\"sk-top-container\"><div class=\"sk-text-repr-fallback\"><pre>LinearRegression()</pre><b>In a Jupyter environment, please rerun this cell to show the HTML representation or trust the notebook. <br />On GitHub, the HTML representation is unable to render, please try loading this page with nbviewer.org.</b></div><div class=\"sk-container\" hidden><div class=\"sk-item\"><div class=\"sk-estimator sk-toggleable\"><input class=\"sk-toggleable__control sk-hidden--visually\" id=\"sk-estimator-id-1\" type=\"checkbox\" checked><label for=\"sk-estimator-id-1\" class=\"sk-toggleable__label sk-toggleable__label-arrow\">LinearRegression</label><div class=\"sk-toggleable__content\"><pre>LinearRegression()</pre></div></div></div></div></div>"
      ],
      "text/plain": [
       "LinearRegression()"
      ]
     },
     "execution_count": 52,
     "metadata": {},
     "output_type": "execute_result"
    }
   ],
   "source": [
    "#train the model\n",
    "lr.fit(X_train,y_train)"
   ]
  },
  {
   "cell_type": "code",
   "execution_count": 53,
   "id": "48b569e1",
   "metadata": {},
   "outputs": [],
   "source": [
    "#test the model \n",
    "y_pred=lr.predict(X_test)"
   ]
  },
  {
   "cell_type": "code",
   "execution_count": 54,
   "id": "c5895cca",
   "metadata": {},
   "outputs": [
    {
     "data": {
      "text/plain": [
       "array([ 4110909.71018022,  6081105.20087544,  4478834.09603582,\n",
       "        7148139.3905296 ,  2913315.81819903,  7373498.53931323,\n",
       "        3290324.32873117,  3166425.88391958,  2844415.85896406,\n",
       "        8762860.43053349,  6905291.27821842,  3905819.30342304,\n",
       "        3927668.71648966,  4989757.29745701,  4288023.08528366,\n",
       "        1941935.11730464,  4236871.68828618,  3852416.98524479,\n",
       "        3300971.08771845,  4723978.0632047 ,  6400014.68625988,\n",
       "        6730492.77081866,  4816356.22866333,  2666104.81071629,\n",
       "        5035208.56927179,  5938610.160904  ,  4992408.51409781,\n",
       "        5636667.7968909 ,  5914306.09928814,  5536781.21677735,\n",
       "        3388126.02841631,  5525906.98095681,  6867364.53950222,\n",
       "        3010554.93583923,  4436954.25074491,  5262622.97158535,\n",
       "        5262103.34106864,  3797400.57666708,  3013941.71425153,\n",
       "        4007046.7970431 ,  8458481.58432511,  5274189.47772321,\n",
       "        6695309.63478002,  3869546.53817292,  3186487.40568418,\n",
       "        6585233.55793406,  4710907.18629835,  2818050.82278472,\n",
       "        4307708.60571388,  6109076.61846617,  4110927.42868308,\n",
       "        7654206.1575254 ,  2580423.49174376,  3022560.37695016,\n",
       "        3736574.62108688,  4631564.89113312,  7557507.02796204,\n",
       "        4195046.13509483,  2943896.0413085 ,  4780407.83334805,\n",
       "        5911384.55530536,  6496647.97481907,  3303331.1879516 ,\n",
       "        7479334.11485405,  2582055.99587927,  5246530.25132428,\n",
       "        7055232.14548614,  2610410.59371598,  4085051.38082533,\n",
       "        5173117.00549659,  3781335.33369333,  7471551.4565454 ,\n",
       "        4649447.51073949,  6029580.24013187,  4298295.92683933,\n",
       "        4011957.74510371,  2984848.23090812,  8072480.78622346,\n",
       "        2621559.54024281,  3069758.97833515,  3781335.33369333,\n",
       "        6366785.70339236,  5425173.66662709,  5757793.27911979,\n",
       "        3989955.72833765,  4191827.85011394,  4646753.84348854,\n",
       "        5344189.50243563,  4097565.96297278,  4485876.24931821,\n",
       "        3513333.88608233,  5693513.53542962,  3220776.78426427,\n",
       "        3749269.77740106,  3979412.60759156, 10976614.23406881,\n",
       "        3005193.18570583,  6660547.38971291,  4712815.72211891,\n",
       "        4911049.84793588,  7055856.15462694,  3313476.05884466,\n",
       "        4700694.4076092 ,  3521778.46308159,  6981684.09106514,\n",
       "        5316589.69178903,  4357076.3241056 ,  4986583.77346048,\n",
       "        5990429.34713268])"
      ]
     },
     "execution_count": 54,
     "metadata": {},
     "output_type": "execute_result"
    }
   ],
   "source": [
    "#prediction\n",
    "y_pred "
   ]
  },
  {
   "cell_type": "code",
   "execution_count": 55,
   "id": "d3333be8",
   "metadata": {},
   "outputs": [
    {
     "data": {
      "text/plain": [
       "239    4585000\n",
       "113    6083000\n",
       "325    4007500\n",
       "66     6930000\n",
       "479    2940000\n",
       "        ...   \n",
       "76     6650000\n",
       "132    5810000\n",
       "311    4123000\n",
       "464    3080000\n",
       "155    5530000\n",
       "Name: price, Length: 109, dtype: int64"
      ]
     },
     "execution_count": 55,
     "metadata": {},
     "output_type": "execute_result"
    }
   ],
   "source": [
    "# Actual outcome\n",
    "y_test "
   ]
  },
  {
   "cell_type": "code",
   "execution_count": 56,
   "id": "3239f872",
   "metadata": {},
   "outputs": [
    {
     "data": {
      "text/plain": [
       "0.6075563409074549"
      ]
     },
     "execution_count": 56,
     "metadata": {},
     "output_type": "execute_result"
    }
   ],
   "source": [
    "from sklearn.metrics import r2_score\n",
    "acc=r2_score(y_pred,y_test)\n",
    "acc"
   ]
  },
  {
   "cell_type": "markdown",
   "id": "bd6aca41",
   "metadata": {},
   "source": [
    "# LogisticRegression"
   ]
  },
  {
   "cell_type": "code",
   "execution_count": 57,
   "id": "baf3eb61",
   "metadata": {},
   "outputs": [],
   "source": [
    "#Model Building\n",
    "from sklearn.linear_model import LogisticRegression"
   ]
  },
  {
   "cell_type": "code",
   "execution_count": 58,
   "id": "b4b89e80",
   "metadata": {},
   "outputs": [],
   "source": [
    "lr=LogisticRegression()"
   ]
  },
  {
   "cell_type": "code",
   "execution_count": 59,
   "id": "fa1e2ff3",
   "metadata": {},
   "outputs": [
    {
     "name": "stderr",
     "output_type": "stream",
     "text": [
      "D:\\Industrial Intern\\Applied Data Science\\Anaconda\\lib\\site-packages\\sklearn\\linear_model\\_logistic.py:458: ConvergenceWarning: lbfgs failed to converge (status=1):\n",
      "STOP: TOTAL NO. of ITERATIONS REACHED LIMIT.\n",
      "\n",
      "Increase the number of iterations (max_iter) or scale the data as shown in:\n",
      "    https://scikit-learn.org/stable/modules/preprocessing.html\n",
      "Please also refer to the documentation for alternative solver options:\n",
      "    https://scikit-learn.org/stable/modules/linear_model.html#logistic-regression\n",
      "  n_iter_i = _check_optimize_result(\n"
     ]
    },
    {
     "data": {
      "text/html": [
       "<style>#sk-container-id-2 {color: black;background-color: white;}#sk-container-id-2 pre{padding: 0;}#sk-container-id-2 div.sk-toggleable {background-color: white;}#sk-container-id-2 label.sk-toggleable__label {cursor: pointer;display: block;width: 100%;margin-bottom: 0;padding: 0.3em;box-sizing: border-box;text-align: center;}#sk-container-id-2 label.sk-toggleable__label-arrow:before {content: \"▸\";float: left;margin-right: 0.25em;color: #696969;}#sk-container-id-2 label.sk-toggleable__label-arrow:hover:before {color: black;}#sk-container-id-2 div.sk-estimator:hover label.sk-toggleable__label-arrow:before {color: black;}#sk-container-id-2 div.sk-toggleable__content {max-height: 0;max-width: 0;overflow: hidden;text-align: left;background-color: #f0f8ff;}#sk-container-id-2 div.sk-toggleable__content pre {margin: 0.2em;color: black;border-radius: 0.25em;background-color: #f0f8ff;}#sk-container-id-2 input.sk-toggleable__control:checked~div.sk-toggleable__content {max-height: 200px;max-width: 100%;overflow: auto;}#sk-container-id-2 input.sk-toggleable__control:checked~label.sk-toggleable__label-arrow:before {content: \"▾\";}#sk-container-id-2 div.sk-estimator input.sk-toggleable__control:checked~label.sk-toggleable__label {background-color: #d4ebff;}#sk-container-id-2 div.sk-label input.sk-toggleable__control:checked~label.sk-toggleable__label {background-color: #d4ebff;}#sk-container-id-2 input.sk-hidden--visually {border: 0;clip: rect(1px 1px 1px 1px);clip: rect(1px, 1px, 1px, 1px);height: 1px;margin: -1px;overflow: hidden;padding: 0;position: absolute;width: 1px;}#sk-container-id-2 div.sk-estimator {font-family: monospace;background-color: #f0f8ff;border: 1px dotted black;border-radius: 0.25em;box-sizing: border-box;margin-bottom: 0.5em;}#sk-container-id-2 div.sk-estimator:hover {background-color: #d4ebff;}#sk-container-id-2 div.sk-parallel-item::after {content: \"\";width: 100%;border-bottom: 1px solid gray;flex-grow: 1;}#sk-container-id-2 div.sk-label:hover label.sk-toggleable__label {background-color: #d4ebff;}#sk-container-id-2 div.sk-serial::before {content: \"\";position: absolute;border-left: 1px solid gray;box-sizing: border-box;top: 0;bottom: 0;left: 50%;z-index: 0;}#sk-container-id-2 div.sk-serial {display: flex;flex-direction: column;align-items: center;background-color: white;padding-right: 0.2em;padding-left: 0.2em;position: relative;}#sk-container-id-2 div.sk-item {position: relative;z-index: 1;}#sk-container-id-2 div.sk-parallel {display: flex;align-items: stretch;justify-content: center;background-color: white;position: relative;}#sk-container-id-2 div.sk-item::before, #sk-container-id-2 div.sk-parallel-item::before {content: \"\";position: absolute;border-left: 1px solid gray;box-sizing: border-box;top: 0;bottom: 0;left: 50%;z-index: -1;}#sk-container-id-2 div.sk-parallel-item {display: flex;flex-direction: column;z-index: 1;position: relative;background-color: white;}#sk-container-id-2 div.sk-parallel-item:first-child::after {align-self: flex-end;width: 50%;}#sk-container-id-2 div.sk-parallel-item:last-child::after {align-self: flex-start;width: 50%;}#sk-container-id-2 div.sk-parallel-item:only-child::after {width: 0;}#sk-container-id-2 div.sk-dashed-wrapped {border: 1px dashed gray;margin: 0 0.4em 0.5em 0.4em;box-sizing: border-box;padding-bottom: 0.4em;background-color: white;}#sk-container-id-2 div.sk-label label {font-family: monospace;font-weight: bold;display: inline-block;line-height: 1.2em;}#sk-container-id-2 div.sk-label-container {text-align: center;}#sk-container-id-2 div.sk-container {/* jupyter's `normalize.less` sets `[hidden] { display: none; }` but bootstrap.min.css set `[hidden] { display: none !important; }` so we also need the `!important` here to be able to override the default hidden behavior on the sphinx rendered scikit-learn.org. See: https://github.com/scikit-learn/scikit-learn/issues/21755 */display: inline-block !important;position: relative;}#sk-container-id-2 div.sk-text-repr-fallback {display: none;}</style><div id=\"sk-container-id-2\" class=\"sk-top-container\"><div class=\"sk-text-repr-fallback\"><pre>LogisticRegression()</pre><b>In a Jupyter environment, please rerun this cell to show the HTML representation or trust the notebook. <br />On GitHub, the HTML representation is unable to render, please try loading this page with nbviewer.org.</b></div><div class=\"sk-container\" hidden><div class=\"sk-item\"><div class=\"sk-estimator sk-toggleable\"><input class=\"sk-toggleable__control sk-hidden--visually\" id=\"sk-estimator-id-2\" type=\"checkbox\" checked><label for=\"sk-estimator-id-2\" class=\"sk-toggleable__label sk-toggleable__label-arrow\">LogisticRegression</label><div class=\"sk-toggleable__content\"><pre>LogisticRegression()</pre></div></div></div></div></div>"
      ],
      "text/plain": [
       "LogisticRegression()"
      ]
     },
     "execution_count": 59,
     "metadata": {},
     "output_type": "execute_result"
    }
   ],
   "source": [
    "lr.fit(X_train,y_train)"
   ]
  },
  {
   "cell_type": "code",
   "execution_count": 60,
   "id": "f316c66d",
   "metadata": {},
   "outputs": [],
   "source": [
    "pred=lr.predict(X_test)"
   ]
  },
  {
   "cell_type": "code",
   "execution_count": 61,
   "id": "32a2cc58",
   "metadata": {},
   "outputs": [
    {
     "data": {
      "text/plain": [
       "array([4550000, 5950000, 4200000, 4760000, 4200000, 5600000, 3500000,\n",
       "       3010000, 3500000, 5950000, 5600000, 5600000, 4900000, 5950000,\n",
       "       5250000, 4200000, 5600000, 3500000, 4900000, 3920000, 5250000,\n",
       "       5250000, 5600000, 4200000, 5600000, 4900000, 3920000, 5950000,\n",
       "       4200000, 5950000, 3500000, 4200000, 8400000, 3500000, 4900000,\n",
       "       8400000, 4550000, 4900000, 5950000, 4200000, 8400000, 3500000,\n",
       "       5600000, 3500000, 3500000, 5600000, 4900000, 3500000, 4900000,\n",
       "       5950000, 3500000, 5950000, 4200000, 3500000, 3500000, 3500000,\n",
       "       5950000, 4550000, 3500000, 3500000, 4760000, 5600000, 4200000,\n",
       "       7350000, 4550000, 4200000, 3150000, 3500000, 5950000, 3920000,\n",
       "       4200000, 7350000, 4900000, 4900000, 4900000, 4900000, 4200000,\n",
       "       5950000, 4340000, 3500000, 4200000, 5250000, 4900000, 5950000,\n",
       "       3500000, 4200000, 4550000, 5250000, 4900000, 3920000, 3500000,\n",
       "       5950000, 5950000, 3640000, 4200000, 6300000, 4200000, 5950000,\n",
       "       4760000, 4760000, 5250000, 4200000, 4200000, 4200000, 5600000,\n",
       "       5600000, 3150000, 3500000, 5950000], dtype=int64)"
      ]
     },
     "execution_count": 61,
     "metadata": {},
     "output_type": "execute_result"
    }
   ],
   "source": [
    "pred"
   ]
  },
  {
   "cell_type": "code",
   "execution_count": 62,
   "id": "7f560677",
   "metadata": {},
   "outputs": [],
   "source": [
    "pred1=lr.predict(X_train)"
   ]
  },
  {
   "cell_type": "code",
   "execution_count": 63,
   "id": "6bba7e0a",
   "metadata": {},
   "outputs": [
    {
     "data": {
      "text/plain": [
       "array([3500000, 3500000, 3500000, 3500000, 5250000, 5600000, 4550000,\n",
       "       5950000, 3500000, 3640000, 4760000, 5600000, 4200000, 3500000,\n",
       "       4900000, 3500000, 3500000, 5950000, 5250000, 3150000, 4200000,\n",
       "       5600000, 5950000, 4200000, 3500000, 3500000, 5250000, 3500000,\n",
       "       4200000, 3500000, 3500000, 4550000, 3500000, 5250000, 4900000,\n",
       "       5950000, 8400000, 4200000, 5250000, 5250000, 4200000, 8400000,\n",
       "       3500000, 3500000, 5250000, 4900000, 5950000, 8400000, 5950000,\n",
       "       4200000, 3500000, 3500000, 4200000, 4760000, 7350000, 3500000,\n",
       "       3500000, 3500000, 4200000, 4200000, 4200000, 3500000, 5600000,\n",
       "       4550000, 5250000, 7350000, 5950000, 3500000, 3500000, 3500000,\n",
       "       3500000, 3920000, 5950000, 3500000, 5250000, 5600000, 3500000,\n",
       "       5250000, 3500000, 5950000, 5950000, 7350000, 5250000, 4200000,\n",
       "       3500000, 7350000, 4550000, 5600000, 3500000, 5600000, 6300000,\n",
       "       5950000, 3500000, 5950000, 4900000, 3500000, 5250000, 5950000,\n",
       "       3500000, 4900000, 5600000, 3500000, 5250000, 5950000, 5950000,\n",
       "       4550000, 4550000, 3500000, 3500000, 5250000, 5250000, 4900000,\n",
       "       4200000, 5600000, 8400000, 3500000, 4760000, 3500000, 3500000,\n",
       "       5950000, 3640000, 3500000, 5950000, 4900000, 4900000, 4200000,\n",
       "       4200000, 5600000, 3500000, 3500000, 4900000, 4900000, 5950000,\n",
       "       3150000, 3500000, 3640000, 5040000, 5250000, 4200000, 3500000,\n",
       "       5950000, 5250000, 3500000, 5950000, 5600000, 4200000, 5040000,\n",
       "       3500000, 5600000, 3500000, 5600000, 5250000, 3920000, 5950000,\n",
       "       4550000, 5600000, 5600000, 4900000, 5600000, 3500000, 3640000,\n",
       "       5600000, 3920000, 4900000, 3150000, 4200000, 3500000, 4760000,\n",
       "       4550000, 3640000, 5950000, 3500000, 5250000, 4900000, 3500000,\n",
       "       4200000, 4900000, 3500000, 3500000, 4550000, 4200000, 3920000,\n",
       "       4200000, 4200000, 3500000, 4900000, 3500000, 3640000, 3150000,\n",
       "       4200000, 5600000, 4760000, 4550000, 4550000, 3500000, 4200000,\n",
       "       4200000, 3500000, 4200000, 4200000, 5600000, 4200000, 7350000,\n",
       "       4900000, 4900000, 3500000, 3500000, 3500000, 4900000, 4200000,\n",
       "       5950000, 5250000, 3010000, 4200000, 5250000, 3500000, 3500000,\n",
       "       5600000, 4200000, 5950000, 4200000, 3500000, 5950000, 3500000,\n",
       "       3500000, 5600000, 3500000, 4200000, 4900000, 3640000, 5950000,\n",
       "       3150000, 5950000, 3500000, 4900000, 5950000, 8400000, 8400000,\n",
       "       3150000, 3500000, 5950000, 5950000, 3500000, 3500000, 5600000,\n",
       "       4200000, 4900000, 8400000, 4200000, 3500000, 3500000, 4200000,\n",
       "       4900000, 4550000, 3500000, 5600000, 5600000, 4900000, 5950000,\n",
       "       3920000, 5250000, 4900000, 4900000, 3150000, 3920000, 5600000,\n",
       "       3500000, 5950000, 5600000, 4550000, 3500000, 3500000, 3500000,\n",
       "       3920000, 3500000, 5600000, 3500000, 3500000, 5950000, 5600000,\n",
       "       3640000, 2450000, 3500000, 3500000, 5600000, 3500000, 3920000,\n",
       "       4200000, 4760000, 3500000, 4900000, 5600000, 4900000, 4900000,\n",
       "       5600000, 4200000, 5950000, 4200000, 3500000, 4900000, 5950000,\n",
       "       3500000, 4550000, 4550000, 3640000, 3500000, 3500000, 5600000,\n",
       "       3500000, 5950000, 5950000, 5600000, 5600000, 5600000, 4200000,\n",
       "       5600000, 3500000, 3500000, 3500000, 3500000, 5950000, 4760000,\n",
       "       5600000, 5950000, 3500000, 4200000, 3500000, 5250000, 5950000,\n",
       "       3500000, 4550000, 8400000, 3500000, 5950000, 4550000, 4900000,\n",
       "       3500000, 5250000, 3640000, 3500000, 4900000, 3500000, 3920000,\n",
       "       4200000, 4200000, 3920000, 5950000, 4550000, 5600000, 4200000,\n",
       "       4550000, 4200000, 5250000, 5600000, 5950000, 4550000, 3640000,\n",
       "       3640000, 5600000, 5950000, 4200000, 5250000, 3500000, 5950000,\n",
       "       5600000, 4200000, 3920000, 3640000, 4200000, 3150000, 5600000,\n",
       "       3500000, 8400000, 8400000, 4900000, 5600000, 3500000, 4550000,\n",
       "       4340000, 5950000, 3500000, 4200000, 4900000, 4200000, 5950000,\n",
       "       5950000, 5250000, 3500000, 3500000, 3920000, 3500000, 4200000,\n",
       "       5950000, 3920000, 3500000, 4550000, 5250000, 4550000, 8400000,\n",
       "       3500000, 7350000, 4900000, 3500000, 3920000, 4550000, 3500000,\n",
       "       7350000, 3500000, 5950000, 3500000, 5250000, 3500000, 3500000,\n",
       "       4550000, 5600000, 4200000, 4900000, 3500000, 3500000, 5250000,\n",
       "       4900000, 3500000, 4200000, 5250000, 4900000, 4900000, 4550000,\n",
       "       5250000, 3500000, 3500000, 4550000, 3640000, 4760000, 7350000,\n",
       "       3500000, 5950000], dtype=int64)"
      ]
     },
     "execution_count": 63,
     "metadata": {},
     "output_type": "execute_result"
    }
   ],
   "source": [
    "pred1"
   ]
  },
  {
   "cell_type": "code",
   "execution_count": 64,
   "id": "cf346cf7",
   "metadata": {},
   "outputs": [],
   "source": [
    "from sklearn.metrics import accuracy_score,classification_report,confusion_matrix"
   ]
  },
  {
   "cell_type": "code",
   "execution_count": 65,
   "id": "8a5da0c7",
   "metadata": {},
   "outputs": [
    {
     "data": {
      "text/plain": [
       "0.08027522935779817"
      ]
     },
     "execution_count": 65,
     "metadata": {},
     "output_type": "execute_result"
    }
   ],
   "source": [
    "accuracy_score(y_train,pred1)"
   ]
  },
  {
   "cell_type": "code",
   "execution_count": 66,
   "id": "20269cbc",
   "metadata": {},
   "outputs": [
    {
     "data": {
      "text/plain": [
       "0.03669724770642202"
      ]
     },
     "execution_count": 66,
     "metadata": {},
     "output_type": "execute_result"
    }
   ],
   "source": [
    "accuracy_score(y_test,pred)"
   ]
  },
  {
   "cell_type": "code",
   "execution_count": 67,
   "id": "c2ccf3a6",
   "metadata": {},
   "outputs": [
    {
     "data": {
      "text/plain": [
       "array([[0, 0, 0, ..., 0, 0, 0],\n",
       "       [0, 0, 0, ..., 0, 0, 0],\n",
       "       [0, 0, 0, ..., 0, 0, 0],\n",
       "       ...,\n",
       "       [0, 0, 0, ..., 0, 0, 0],\n",
       "       [0, 0, 0, ..., 0, 0, 0],\n",
       "       [0, 0, 0, ..., 0, 0, 0]], dtype=int64)"
      ]
     },
     "execution_count": 67,
     "metadata": {},
     "output_type": "execute_result"
    }
   ],
   "source": [
    "confusion_matrix(y_test,pred)"
   ]
  },
  {
   "cell_type": "code",
   "execution_count": 68,
   "id": "c50f680b",
   "metadata": {},
   "outputs": [
    {
     "name": "stdout",
     "output_type": "stream",
     "text": [
      "              precision    recall  f1-score   support\n",
      "\n",
      "     1750000       0.00      0.00      0.00         1\n",
      "     1890000       0.00      0.00      0.00         1\n",
      "     1960000       0.00      0.00      0.00         1\n",
      "     2380000       0.00      0.00      0.00         1\n",
      "     2660000       0.00      0.00      0.00         1\n",
      "     2835000       0.00      0.00      0.00         1\n",
      "     2940000       0.00      0.00      0.00         2\n",
      "     3010000       0.00      0.00      0.00         0\n",
      "     3080000       0.00      0.00      0.00         2\n",
      "     3129000       0.00      0.00      0.00         1\n",
      "     3150000       0.00      0.00      0.00         3\n",
      "     3290000       0.00      0.00      0.00         5\n",
      "     3325000       0.00      0.00      0.00         1\n",
      "     3332000       0.00      0.00      0.00         1\n",
      "     3360000       0.00      0.00      0.00         1\n",
      "     3395000       0.00      0.00      0.00         1\n",
      "     3500000       0.15      0.60      0.24         5\n",
      "     3535000       0.00      0.00      0.00         1\n",
      "     3570000       0.00      0.00      0.00         1\n",
      "     3605000       0.00      0.00      0.00         1\n",
      "     3633000       0.00      0.00      0.00         1\n",
      "     3640000       0.00      0.00      0.00         1\n",
      "     3703000       0.00      0.00      0.00         1\n",
      "     3710000       0.00      0.00      0.00         1\n",
      "     3780000       0.00      0.00      0.00         3\n",
      "     3815000       0.00      0.00      0.00         1\n",
      "     3850000       0.00      0.00      0.00         2\n",
      "     3885000       0.00      0.00      0.00         1\n",
      "     3920000       0.00      0.00      0.00         1\n",
      "     3990000       0.00      0.00      0.00         1\n",
      "     4007500       0.00      0.00      0.00         1\n",
      "     4060000       0.00      0.00      0.00         1\n",
      "     4098500       0.00      0.00      0.00         1\n",
      "     4123000       0.00      0.00      0.00         1\n",
      "     4130000       0.00      0.00      0.00         1\n",
      "     4165000       0.00      0.00      0.00         2\n",
      "     4200000       0.00      0.00      0.00         2\n",
      "     4270000       0.00      0.00      0.00         3\n",
      "     4305000       0.00      0.00      0.00         1\n",
      "     4340000       0.00      0.00      0.00         1\n",
      "     4410000       0.00      0.00      0.00         1\n",
      "     4550000       0.00      0.00      0.00         0\n",
      "     4585000       0.00      0.00      0.00         1\n",
      "     4613000       0.00      0.00      0.00         1\n",
      "     4620000       0.00      0.00      0.00         3\n",
      "     4690000       0.00      0.00      0.00         1\n",
      "     4753000       0.00      0.00      0.00         1\n",
      "     4760000       0.00      0.00      0.00         0\n",
      "     4795000       0.00      0.00      0.00         1\n",
      "     4900000       0.00      0.00      0.00         3\n",
      "     4970000       0.00      0.00      0.00         1\n",
      "     5005000       0.00      0.00      0.00         1\n",
      "     5075000       0.00      0.00      0.00         1\n",
      "     5110000       0.00      0.00      0.00         1\n",
      "     5250000       0.00      0.00      0.00         1\n",
      "     5383000       0.00      0.00      0.00         1\n",
      "     5460000       0.00      0.00      0.00         2\n",
      "     5495000       0.00      0.00      0.00         1\n",
      "     5530000       0.00      0.00      0.00         2\n",
      "     5600000       0.00      0.00      0.00         1\n",
      "     5740000       0.00      0.00      0.00         2\n",
      "     5803000       0.00      0.00      0.00         1\n",
      "     5810000       0.00      0.00      0.00         1\n",
      "     5950000       0.06      1.00      0.12         1\n",
      "     6083000       0.00      0.00      0.00         1\n",
      "     6107500       0.00      0.00      0.00         1\n",
      "     6125000       0.00      0.00      0.00         1\n",
      "     6195000       0.00      0.00      0.00         2\n",
      "     6300000       0.00      0.00      0.00         1\n",
      "     6440000       0.00      0.00      0.00         2\n",
      "     6510000       0.00      0.00      0.00         1\n",
      "     6650000       0.00      0.00      0.00         3\n",
      "     6755000       0.00      0.00      0.00         1\n",
      "     6930000       0.00      0.00      0.00         1\n",
      "     7350000       0.00      0.00      0.00         0\n",
      "     7525000       0.00      0.00      0.00         1\n",
      "     7560000       0.00      0.00      0.00         1\n",
      "     7980000       0.00      0.00      0.00         1\n",
      "     8400000       0.00      0.00      0.00         0\n",
      "     8680000       0.00      0.00      0.00         1\n",
      "     8960000       0.00      0.00      0.00         1\n",
      "     9100000       0.00      0.00      0.00         1\n",
      "     9310000       0.00      0.00      0.00         1\n",
      "    12250000       0.00      0.00      0.00         1\n",
      "\n",
      "    accuracy                           0.04       109\n",
      "   macro avg       0.00      0.02      0.00       109\n",
      "weighted avg       0.01      0.04      0.01       109\n",
      "\n"
     ]
    },
    {
     "name": "stderr",
     "output_type": "stream",
     "text": [
      "D:\\Industrial Intern\\Applied Data Science\\Anaconda\\lib\\site-packages\\sklearn\\metrics\\_classification.py:1344: UndefinedMetricWarning: Precision and F-score are ill-defined and being set to 0.0 in labels with no predicted samples. Use `zero_division` parameter to control this behavior.\n",
      "  _warn_prf(average, modifier, msg_start, len(result))\n",
      "D:\\Industrial Intern\\Applied Data Science\\Anaconda\\lib\\site-packages\\sklearn\\metrics\\_classification.py:1344: UndefinedMetricWarning: Recall and F-score are ill-defined and being set to 0.0 in labels with no true samples. Use `zero_division` parameter to control this behavior.\n",
      "  _warn_prf(average, modifier, msg_start, len(result))\n",
      "D:\\Industrial Intern\\Applied Data Science\\Anaconda\\lib\\site-packages\\sklearn\\metrics\\_classification.py:1344: UndefinedMetricWarning: Precision and F-score are ill-defined and being set to 0.0 in labels with no predicted samples. Use `zero_division` parameter to control this behavior.\n",
      "  _warn_prf(average, modifier, msg_start, len(result))\n",
      "D:\\Industrial Intern\\Applied Data Science\\Anaconda\\lib\\site-packages\\sklearn\\metrics\\_classification.py:1344: UndefinedMetricWarning: Recall and F-score are ill-defined and being set to 0.0 in labels with no true samples. Use `zero_division` parameter to control this behavior.\n",
      "  _warn_prf(average, modifier, msg_start, len(result))\n",
      "D:\\Industrial Intern\\Applied Data Science\\Anaconda\\lib\\site-packages\\sklearn\\metrics\\_classification.py:1344: UndefinedMetricWarning: Precision and F-score are ill-defined and being set to 0.0 in labels with no predicted samples. Use `zero_division` parameter to control this behavior.\n",
      "  _warn_prf(average, modifier, msg_start, len(result))\n",
      "D:\\Industrial Intern\\Applied Data Science\\Anaconda\\lib\\site-packages\\sklearn\\metrics\\_classification.py:1344: UndefinedMetricWarning: Recall and F-score are ill-defined and being set to 0.0 in labels with no true samples. Use `zero_division` parameter to control this behavior.\n",
      "  _warn_prf(average, modifier, msg_start, len(result))\n"
     ]
    }
   ],
   "source": [
    "print(classification_report(y_test,pred))"
   ]
  },
  {
   "cell_type": "markdown",
   "id": "c6f14f16",
   "metadata": {},
   "source": [
    "# Ridge Regression"
   ]
  },
  {
   "cell_type": "code",
   "execution_count": 69,
   "id": "431fcb33",
   "metadata": {},
   "outputs": [],
   "source": [
    "from sklearn.linear_model import Ridge"
   ]
  },
  {
   "cell_type": "code",
   "execution_count": 70,
   "id": "be51402f",
   "metadata": {},
   "outputs": [],
   "source": [
    "r=Ridge()"
   ]
  },
  {
   "cell_type": "code",
   "execution_count": 71,
   "id": "a40c1a8f",
   "metadata": {},
   "outputs": [
    {
     "data": {
      "text/html": [
       "<style>#sk-container-id-3 {color: black;background-color: white;}#sk-container-id-3 pre{padding: 0;}#sk-container-id-3 div.sk-toggleable {background-color: white;}#sk-container-id-3 label.sk-toggleable__label {cursor: pointer;display: block;width: 100%;margin-bottom: 0;padding: 0.3em;box-sizing: border-box;text-align: center;}#sk-container-id-3 label.sk-toggleable__label-arrow:before {content: \"▸\";float: left;margin-right: 0.25em;color: #696969;}#sk-container-id-3 label.sk-toggleable__label-arrow:hover:before {color: black;}#sk-container-id-3 div.sk-estimator:hover label.sk-toggleable__label-arrow:before {color: black;}#sk-container-id-3 div.sk-toggleable__content {max-height: 0;max-width: 0;overflow: hidden;text-align: left;background-color: #f0f8ff;}#sk-container-id-3 div.sk-toggleable__content pre {margin: 0.2em;color: black;border-radius: 0.25em;background-color: #f0f8ff;}#sk-container-id-3 input.sk-toggleable__control:checked~div.sk-toggleable__content {max-height: 200px;max-width: 100%;overflow: auto;}#sk-container-id-3 input.sk-toggleable__control:checked~label.sk-toggleable__label-arrow:before {content: \"▾\";}#sk-container-id-3 div.sk-estimator input.sk-toggleable__control:checked~label.sk-toggleable__label {background-color: #d4ebff;}#sk-container-id-3 div.sk-label input.sk-toggleable__control:checked~label.sk-toggleable__label {background-color: #d4ebff;}#sk-container-id-3 input.sk-hidden--visually {border: 0;clip: rect(1px 1px 1px 1px);clip: rect(1px, 1px, 1px, 1px);height: 1px;margin: -1px;overflow: hidden;padding: 0;position: absolute;width: 1px;}#sk-container-id-3 div.sk-estimator {font-family: monospace;background-color: #f0f8ff;border: 1px dotted black;border-radius: 0.25em;box-sizing: border-box;margin-bottom: 0.5em;}#sk-container-id-3 div.sk-estimator:hover {background-color: #d4ebff;}#sk-container-id-3 div.sk-parallel-item::after {content: \"\";width: 100%;border-bottom: 1px solid gray;flex-grow: 1;}#sk-container-id-3 div.sk-label:hover label.sk-toggleable__label {background-color: #d4ebff;}#sk-container-id-3 div.sk-serial::before {content: \"\";position: absolute;border-left: 1px solid gray;box-sizing: border-box;top: 0;bottom: 0;left: 50%;z-index: 0;}#sk-container-id-3 div.sk-serial {display: flex;flex-direction: column;align-items: center;background-color: white;padding-right: 0.2em;padding-left: 0.2em;position: relative;}#sk-container-id-3 div.sk-item {position: relative;z-index: 1;}#sk-container-id-3 div.sk-parallel {display: flex;align-items: stretch;justify-content: center;background-color: white;position: relative;}#sk-container-id-3 div.sk-item::before, #sk-container-id-3 div.sk-parallel-item::before {content: \"\";position: absolute;border-left: 1px solid gray;box-sizing: border-box;top: 0;bottom: 0;left: 50%;z-index: -1;}#sk-container-id-3 div.sk-parallel-item {display: flex;flex-direction: column;z-index: 1;position: relative;background-color: white;}#sk-container-id-3 div.sk-parallel-item:first-child::after {align-self: flex-end;width: 50%;}#sk-container-id-3 div.sk-parallel-item:last-child::after {align-self: flex-start;width: 50%;}#sk-container-id-3 div.sk-parallel-item:only-child::after {width: 0;}#sk-container-id-3 div.sk-dashed-wrapped {border: 1px dashed gray;margin: 0 0.4em 0.5em 0.4em;box-sizing: border-box;padding-bottom: 0.4em;background-color: white;}#sk-container-id-3 div.sk-label label {font-family: monospace;font-weight: bold;display: inline-block;line-height: 1.2em;}#sk-container-id-3 div.sk-label-container {text-align: center;}#sk-container-id-3 div.sk-container {/* jupyter's `normalize.less` sets `[hidden] { display: none; }` but bootstrap.min.css set `[hidden] { display: none !important; }` so we also need the `!important` here to be able to override the default hidden behavior on the sphinx rendered scikit-learn.org. See: https://github.com/scikit-learn/scikit-learn/issues/21755 */display: inline-block !important;position: relative;}#sk-container-id-3 div.sk-text-repr-fallback {display: none;}</style><div id=\"sk-container-id-3\" class=\"sk-top-container\"><div class=\"sk-text-repr-fallback\"><pre>Ridge()</pre><b>In a Jupyter environment, please rerun this cell to show the HTML representation or trust the notebook. <br />On GitHub, the HTML representation is unable to render, please try loading this page with nbviewer.org.</b></div><div class=\"sk-container\" hidden><div class=\"sk-item\"><div class=\"sk-estimator sk-toggleable\"><input class=\"sk-toggleable__control sk-hidden--visually\" id=\"sk-estimator-id-3\" type=\"checkbox\" checked><label for=\"sk-estimator-id-3\" class=\"sk-toggleable__label sk-toggleable__label-arrow\">Ridge</label><div class=\"sk-toggleable__content\"><pre>Ridge()</pre></div></div></div></div></div>"
      ],
      "text/plain": [
       "Ridge()"
      ]
     },
     "execution_count": 71,
     "metadata": {},
     "output_type": "execute_result"
    }
   ],
   "source": [
    "r.fit(X_train,y_train)"
   ]
  },
  {
   "cell_type": "code",
   "execution_count": 72,
   "id": "c957d8c7",
   "metadata": {},
   "outputs": [
    {
     "data": {
      "text/html": [
       "<style>#sk-container-id-4 {color: black;background-color: white;}#sk-container-id-4 pre{padding: 0;}#sk-container-id-4 div.sk-toggleable {background-color: white;}#sk-container-id-4 label.sk-toggleable__label {cursor: pointer;display: block;width: 100%;margin-bottom: 0;padding: 0.3em;box-sizing: border-box;text-align: center;}#sk-container-id-4 label.sk-toggleable__label-arrow:before {content: \"▸\";float: left;margin-right: 0.25em;color: #696969;}#sk-container-id-4 label.sk-toggleable__label-arrow:hover:before {color: black;}#sk-container-id-4 div.sk-estimator:hover label.sk-toggleable__label-arrow:before {color: black;}#sk-container-id-4 div.sk-toggleable__content {max-height: 0;max-width: 0;overflow: hidden;text-align: left;background-color: #f0f8ff;}#sk-container-id-4 div.sk-toggleable__content pre {margin: 0.2em;color: black;border-radius: 0.25em;background-color: #f0f8ff;}#sk-container-id-4 input.sk-toggleable__control:checked~div.sk-toggleable__content {max-height: 200px;max-width: 100%;overflow: auto;}#sk-container-id-4 input.sk-toggleable__control:checked~label.sk-toggleable__label-arrow:before {content: \"▾\";}#sk-container-id-4 div.sk-estimator input.sk-toggleable__control:checked~label.sk-toggleable__label {background-color: #d4ebff;}#sk-container-id-4 div.sk-label input.sk-toggleable__control:checked~label.sk-toggleable__label {background-color: #d4ebff;}#sk-container-id-4 input.sk-hidden--visually {border: 0;clip: rect(1px 1px 1px 1px);clip: rect(1px, 1px, 1px, 1px);height: 1px;margin: -1px;overflow: hidden;padding: 0;position: absolute;width: 1px;}#sk-container-id-4 div.sk-estimator {font-family: monospace;background-color: #f0f8ff;border: 1px dotted black;border-radius: 0.25em;box-sizing: border-box;margin-bottom: 0.5em;}#sk-container-id-4 div.sk-estimator:hover {background-color: #d4ebff;}#sk-container-id-4 div.sk-parallel-item::after {content: \"\";width: 100%;border-bottom: 1px solid gray;flex-grow: 1;}#sk-container-id-4 div.sk-label:hover label.sk-toggleable__label {background-color: #d4ebff;}#sk-container-id-4 div.sk-serial::before {content: \"\";position: absolute;border-left: 1px solid gray;box-sizing: border-box;top: 0;bottom: 0;left: 50%;z-index: 0;}#sk-container-id-4 div.sk-serial {display: flex;flex-direction: column;align-items: center;background-color: white;padding-right: 0.2em;padding-left: 0.2em;position: relative;}#sk-container-id-4 div.sk-item {position: relative;z-index: 1;}#sk-container-id-4 div.sk-parallel {display: flex;align-items: stretch;justify-content: center;background-color: white;position: relative;}#sk-container-id-4 div.sk-item::before, #sk-container-id-4 div.sk-parallel-item::before {content: \"\";position: absolute;border-left: 1px solid gray;box-sizing: border-box;top: 0;bottom: 0;left: 50%;z-index: -1;}#sk-container-id-4 div.sk-parallel-item {display: flex;flex-direction: column;z-index: 1;position: relative;background-color: white;}#sk-container-id-4 div.sk-parallel-item:first-child::after {align-self: flex-end;width: 50%;}#sk-container-id-4 div.sk-parallel-item:last-child::after {align-self: flex-start;width: 50%;}#sk-container-id-4 div.sk-parallel-item:only-child::after {width: 0;}#sk-container-id-4 div.sk-dashed-wrapped {border: 1px dashed gray;margin: 0 0.4em 0.5em 0.4em;box-sizing: border-box;padding-bottom: 0.4em;background-color: white;}#sk-container-id-4 div.sk-label label {font-family: monospace;font-weight: bold;display: inline-block;line-height: 1.2em;}#sk-container-id-4 div.sk-label-container {text-align: center;}#sk-container-id-4 div.sk-container {/* jupyter's `normalize.less` sets `[hidden] { display: none; }` but bootstrap.min.css set `[hidden] { display: none !important; }` so we also need the `!important` here to be able to override the default hidden behavior on the sphinx rendered scikit-learn.org. See: https://github.com/scikit-learn/scikit-learn/issues/21755 */display: inline-block !important;position: relative;}#sk-container-id-4 div.sk-text-repr-fallback {display: none;}</style><div id=\"sk-container-id-4\" class=\"sk-top-container\"><div class=\"sk-text-repr-fallback\"><pre>Ridge()</pre><b>In a Jupyter environment, please rerun this cell to show the HTML representation or trust the notebook. <br />On GitHub, the HTML representation is unable to render, please try loading this page with nbviewer.org.</b></div><div class=\"sk-container\" hidden><div class=\"sk-item\"><div class=\"sk-estimator sk-toggleable\"><input class=\"sk-toggleable__control sk-hidden--visually\" id=\"sk-estimator-id-4\" type=\"checkbox\" checked><label for=\"sk-estimator-id-4\" class=\"sk-toggleable__label sk-toggleable__label-arrow\">Ridge</label><div class=\"sk-toggleable__content\"><pre>Ridge()</pre></div></div></div></div></div>"
      ],
      "text/plain": [
       "Ridge()"
      ]
     },
     "execution_count": 72,
     "metadata": {},
     "output_type": "execute_result"
    }
   ],
   "source": [
    "r.fit(X_train,y_train)"
   ]
  },
  {
   "cell_type": "code",
   "execution_count": 73,
   "id": "c3caf1a5",
   "metadata": {},
   "outputs": [],
   "source": [
    "pred1=r.predict(X_test)"
   ]
  },
  {
   "cell_type": "code",
   "execution_count": 74,
   "id": "000e02e5",
   "metadata": {},
   "outputs": [
    {
     "data": {
      "text/plain": [
       "array([ 4121938.01796571,  6097327.23316367,  4473895.45534222,\n",
       "        7087627.31929648,  2933919.36242543,  7358230.22396095,\n",
       "        3300080.67239022,  3188316.05769215,  2847588.44688714,\n",
       "        8765840.4358515 ,  6896376.97664843,  3913648.24038539,\n",
       "        3931965.53396429,  4991496.57869937,  4293164.07002433,\n",
       "        1956797.01562016,  4239398.22428196,  3859251.85598417,\n",
       "        3317686.36762834,  4720009.17129213,  6394369.47241904,\n",
       "        6650603.10917643,  4809730.41250293,  2669047.62652527,\n",
       "        5042344.91879184,  5915732.09398277,  5004811.61960991,\n",
       "        5628961.75070554,  5902634.84086762,  5529708.02816514,\n",
       "        3393518.21408369,  5446986.50235652,  6862271.39107927,\n",
       "        3014215.07903299,  4382412.94950907,  5262208.29232483,\n",
       "        5278188.91019312,  3801315.1064863 ,  3013584.64172644,\n",
       "        4002622.26563344,  8457890.67790324,  5290447.52313566,\n",
       "        6683101.44151032,  3872835.43842257,  3195939.02729906,\n",
       "        6573113.01104327,  4694077.299599  ,  2818548.53116069,\n",
       "        4315718.20448607,  6102792.87445938,  4121331.77415558,\n",
       "        7657730.04025164,  2594400.22303413,  3024282.25772613,\n",
       "        3745043.03219988,  4621095.09297073,  7548863.74979786,\n",
       "        4208375.0122135 ,  2945387.07205101,  4786583.10287245,\n",
       "        5930080.74670541,  6494177.35451699,  3311502.55236339,\n",
       "        7473272.27327976,  2599964.26821859,  5257870.11404113,\n",
       "        7039577.92888572,  2627154.04744138,  4090220.73479265,\n",
       "        5172519.82707248,  3785826.7324187 ,  7458757.71954498,\n",
       "        4639770.3337498 ,  5960205.95829594,  4294917.67775141,\n",
       "        4007739.20189398,  3008339.37077533,  8081289.55891061,\n",
       "        2639663.90747344,  3071619.3691312 ,  3785826.7324187 ,\n",
       "        6297351.76567853,  5425643.71697901,  5754554.23847288,\n",
       "        4000085.23463318,  4205360.6191185 ,  4581462.6999496 ,\n",
       "        5327164.39870828,  4102985.37883268,  4490707.83250501,\n",
       "        3532807.24466632,  5706000.62481708,  3223704.36943755,\n",
       "        3753510.58063388,  3974802.54612821, 10966890.17232418,\n",
       "        3021040.4694899 ,  6653709.70731318,  4722719.3846628 ,\n",
       "        4921535.2525641 ,  7066681.37359247,  3338475.44429017,\n",
       "        4702634.62494995,  3524260.13207056,  6971350.99065599,\n",
       "        5311645.20772869,  4362339.78700114,  4922289.90206611,\n",
       "        5995486.22801221])"
      ]
     },
     "execution_count": 74,
     "metadata": {},
     "output_type": "execute_result"
    }
   ],
   "source": [
    "pred1"
   ]
  },
  {
   "cell_type": "code",
   "execution_count": 75,
   "id": "555a499e",
   "metadata": {},
   "outputs": [],
   "source": [
    "from sklearn import metrics"
   ]
  },
  {
   "cell_type": "code",
   "execution_count": 76,
   "id": "d90f144b",
   "metadata": {},
   "outputs": [
    {
     "name": "stdout",
     "output_type": "stream",
     "text": [
      "1013637307070.1865\n"
     ]
    }
   ],
   "source": [
    "#MSE (Mean Square Error)\n",
    "print(metrics.mean_squared_error(y_test,pred1))"
   ]
  },
  {
   "cell_type": "code",
   "execution_count": 77,
   "id": "ffb7f689",
   "metadata": {},
   "outputs": [
    {
     "name": "stdout",
     "output_type": "stream",
     "text": [
      "1006795.5636921462\n"
     ]
    }
   ],
   "source": [
    "#RMSE(Root Mean Square Error)\n",
    "print(np.sqrt(metrics.mean_squared_error(y_test,pred1)))"
   ]
  },
  {
   "cell_type": "code",
   "execution_count": 78,
   "id": "c8c35682",
   "metadata": {},
   "outputs": [
    {
     "name": "stdout",
     "output_type": "stream",
     "text": [
      "0.64822803562312\n"
     ]
    }
   ],
   "source": [
    "# R Squared\n",
    "print(metrics.r2_score(y_test,pred1))"
   ]
  },
  {
   "cell_type": "markdown",
   "id": "323f112b",
   "metadata": {},
   "source": [
    "# Lasso Regression"
   ]
  },
  {
   "cell_type": "code",
   "execution_count": 79,
   "id": "a5d69ec4",
   "metadata": {},
   "outputs": [],
   "source": [
    "from sklearn.linear_model import Lasso"
   ]
  },
  {
   "cell_type": "code",
   "execution_count": 80,
   "id": "00e7f420",
   "metadata": {},
   "outputs": [],
   "source": [
    "l=Lasso()"
   ]
  },
  {
   "cell_type": "code",
   "execution_count": 81,
   "id": "68b88558",
   "metadata": {
    "scrolled": true
   },
   "outputs": [
    {
     "data": {
      "text/html": [
       "<style>#sk-container-id-5 {color: black;background-color: white;}#sk-container-id-5 pre{padding: 0;}#sk-container-id-5 div.sk-toggleable {background-color: white;}#sk-container-id-5 label.sk-toggleable__label {cursor: pointer;display: block;width: 100%;margin-bottom: 0;padding: 0.3em;box-sizing: border-box;text-align: center;}#sk-container-id-5 label.sk-toggleable__label-arrow:before {content: \"▸\";float: left;margin-right: 0.25em;color: #696969;}#sk-container-id-5 label.sk-toggleable__label-arrow:hover:before {color: black;}#sk-container-id-5 div.sk-estimator:hover label.sk-toggleable__label-arrow:before {color: black;}#sk-container-id-5 div.sk-toggleable__content {max-height: 0;max-width: 0;overflow: hidden;text-align: left;background-color: #f0f8ff;}#sk-container-id-5 div.sk-toggleable__content pre {margin: 0.2em;color: black;border-radius: 0.25em;background-color: #f0f8ff;}#sk-container-id-5 input.sk-toggleable__control:checked~div.sk-toggleable__content {max-height: 200px;max-width: 100%;overflow: auto;}#sk-container-id-5 input.sk-toggleable__control:checked~label.sk-toggleable__label-arrow:before {content: \"▾\";}#sk-container-id-5 div.sk-estimator input.sk-toggleable__control:checked~label.sk-toggleable__label {background-color: #d4ebff;}#sk-container-id-5 div.sk-label input.sk-toggleable__control:checked~label.sk-toggleable__label {background-color: #d4ebff;}#sk-container-id-5 input.sk-hidden--visually {border: 0;clip: rect(1px 1px 1px 1px);clip: rect(1px, 1px, 1px, 1px);height: 1px;margin: -1px;overflow: hidden;padding: 0;position: absolute;width: 1px;}#sk-container-id-5 div.sk-estimator {font-family: monospace;background-color: #f0f8ff;border: 1px dotted black;border-radius: 0.25em;box-sizing: border-box;margin-bottom: 0.5em;}#sk-container-id-5 div.sk-estimator:hover {background-color: #d4ebff;}#sk-container-id-5 div.sk-parallel-item::after {content: \"\";width: 100%;border-bottom: 1px solid gray;flex-grow: 1;}#sk-container-id-5 div.sk-label:hover label.sk-toggleable__label {background-color: #d4ebff;}#sk-container-id-5 div.sk-serial::before {content: \"\";position: absolute;border-left: 1px solid gray;box-sizing: border-box;top: 0;bottom: 0;left: 50%;z-index: 0;}#sk-container-id-5 div.sk-serial {display: flex;flex-direction: column;align-items: center;background-color: white;padding-right: 0.2em;padding-left: 0.2em;position: relative;}#sk-container-id-5 div.sk-item {position: relative;z-index: 1;}#sk-container-id-5 div.sk-parallel {display: flex;align-items: stretch;justify-content: center;background-color: white;position: relative;}#sk-container-id-5 div.sk-item::before, #sk-container-id-5 div.sk-parallel-item::before {content: \"\";position: absolute;border-left: 1px solid gray;box-sizing: border-box;top: 0;bottom: 0;left: 50%;z-index: -1;}#sk-container-id-5 div.sk-parallel-item {display: flex;flex-direction: column;z-index: 1;position: relative;background-color: white;}#sk-container-id-5 div.sk-parallel-item:first-child::after {align-self: flex-end;width: 50%;}#sk-container-id-5 div.sk-parallel-item:last-child::after {align-self: flex-start;width: 50%;}#sk-container-id-5 div.sk-parallel-item:only-child::after {width: 0;}#sk-container-id-5 div.sk-dashed-wrapped {border: 1px dashed gray;margin: 0 0.4em 0.5em 0.4em;box-sizing: border-box;padding-bottom: 0.4em;background-color: white;}#sk-container-id-5 div.sk-label label {font-family: monospace;font-weight: bold;display: inline-block;line-height: 1.2em;}#sk-container-id-5 div.sk-label-container {text-align: center;}#sk-container-id-5 div.sk-container {/* jupyter's `normalize.less` sets `[hidden] { display: none; }` but bootstrap.min.css set `[hidden] { display: none !important; }` so we also need the `!important` here to be able to override the default hidden behavior on the sphinx rendered scikit-learn.org. See: https://github.com/scikit-learn/scikit-learn/issues/21755 */display: inline-block !important;position: relative;}#sk-container-id-5 div.sk-text-repr-fallback {display: none;}</style><div id=\"sk-container-id-5\" class=\"sk-top-container\"><div class=\"sk-text-repr-fallback\"><pre>Lasso()</pre><b>In a Jupyter environment, please rerun this cell to show the HTML representation or trust the notebook. <br />On GitHub, the HTML representation is unable to render, please try loading this page with nbviewer.org.</b></div><div class=\"sk-container\" hidden><div class=\"sk-item\"><div class=\"sk-estimator sk-toggleable\"><input class=\"sk-toggleable__control sk-hidden--visually\" id=\"sk-estimator-id-5\" type=\"checkbox\" checked><label for=\"sk-estimator-id-5\" class=\"sk-toggleable__label sk-toggleable__label-arrow\">Lasso</label><div class=\"sk-toggleable__content\"><pre>Lasso()</pre></div></div></div></div></div>"
      ],
      "text/plain": [
       "Lasso()"
      ]
     },
     "execution_count": 81,
     "metadata": {},
     "output_type": "execute_result"
    }
   ],
   "source": [
    "l.fit(X_train,y_train)"
   ]
  },
  {
   "cell_type": "code",
   "execution_count": 82,
   "id": "f16440b8",
   "metadata": {},
   "outputs": [],
   "source": [
    "pred2=l.predict(X_test)"
   ]
  },
  {
   "cell_type": "code",
   "execution_count": 83,
   "id": "c90d67c8",
   "metadata": {},
   "outputs": [
    {
     "data": {
      "text/plain": [
       "array([ 4110912.75152364,  6081111.66692761,  4478830.1408375 ,\n",
       "        7148117.4971474 ,  2913327.35299964,  7373490.53553064,\n",
       "        3290327.29362585,  3166437.84925277,  2844418.22259591,\n",
       "        8762861.40449979,  6905288.51458993,  3905821.8723519 ,\n",
       "        3927668.79721665,  4989754.11276984,  4288025.22515455,\n",
       "        1941945.2974898 ,  4236873.29635888,  3852421.15020193,\n",
       "        3300980.26656963,  4723975.93976342,  6400011.58134407,\n",
       "        6730459.1299235 ,  4816353.88608387,  2666105.21221588,\n",
       "        5035211.79366604,  5938596.44783014,  4992412.48469104,\n",
       "        5636661.12443086,  5914302.26309791,  5536777.89804071,\n",
       "        3388129.24647278,  5525873.4870109 ,  6867358.87371413,\n",
       "        3010557.7997402 ,  4436934.53634423,  5262623.10770656,\n",
       "        5262106.55339827,  3797400.2651376 ,  3013943.7642507 ,\n",
       "        4007043.79390699,  8458482.23805228,  5274199.69007092,\n",
       "        6695306.83515623,  3869548.20071599,  3186490.05791066,\n",
       "        6585230.6181527 ,  4710896.2914505 ,  2818053.25217031,\n",
       "        4307709.68565397,  6109068.07789318,  4110931.25284627,\n",
       "        7654205.113667  ,  2580431.28368689,  3022562.63937758,\n",
       "        3736579.07484936,  4631563.37117648,  7557506.23307225,\n",
       "        4195049.61626157,  2943898.06686608,  4780411.26456399,\n",
       "        5911393.84706387,  6496643.59052599,  3303339.54394905,\n",
       "        7479331.96536736,  2582066.9891769 ,  5246532.16003691,\n",
       "        7055223.06997218,  2610423.23792631,  4085052.12675224,\n",
       "        5173116.42095472,  3781334.19102262,  7471543.41157415,\n",
       "        4649441.52011095,  6029552.12714194,  4298291.06505316,\n",
       "        4011952.02111128,  2984859.3848131 ,  8072484.51974142,\n",
       "        2621570.20134392,  3069761.38288449,  3781334.19102262,\n",
       "        6366755.13404232,  5425172.710784  ,  5757792.98857891,\n",
       "        3989958.73708983,  4191830.34752589,  4646727.56353011,\n",
       "        5344180.32801748,  4097565.77251887,  4485872.03985227,\n",
       "        3513348.7979796 ,  5693518.97952919,  3220778.86078394,\n",
       "        3749276.92701276,  3979409.05518042, 10976611.82985599,\n",
       "        3005201.47392638,  6660544.90934365,  4712822.14624387,\n",
       "        4911056.86897285,  7055863.30062528,  3313487.87067727,\n",
       "        4700693.82424651,  3521778.10437993,  6981681.56228805,\n",
       "        5316587.88142181,  4357079.1230534 ,  4986558.51677981,\n",
       "        5990430.59065972])"
      ]
     },
     "execution_count": 83,
     "metadata": {},
     "output_type": "execute_result"
    }
   ],
   "source": [
    "pred2"
   ]
  },
  {
   "cell_type": "code",
   "execution_count": 84,
   "id": "2d93e6b0",
   "metadata": {},
   "outputs": [
    {
     "name": "stdout",
     "output_type": "stream",
     "text": [
      "1024438028387.744\n"
     ]
    }
   ],
   "source": [
    "#MSE (Mean Square Error)\n",
    "print(metrics.mean_squared_error(y_test,pred2))"
   ]
  },
  {
   "cell_type": "code",
   "execution_count": 85,
   "id": "13b5089d",
   "metadata": {},
   "outputs": [
    {
     "name": "stdout",
     "output_type": "stream",
     "text": [
      "1012145.2605173548\n"
     ]
    }
   ],
   "source": [
    "#RMSE(Root Mean Square Error)\n",
    "print(np.sqrt(metrics.mean_squared_error(y_test,pred2)))"
   ]
  },
  {
   "cell_type": "code",
   "execution_count": 86,
   "id": "12fa32ed",
   "metadata": {},
   "outputs": [
    {
     "name": "stdout",
     "output_type": "stream",
     "text": [
      "0.6444797610400286\n"
     ]
    }
   ],
   "source": [
    "# R Squared\n",
    "print(metrics.r2_score(y_test,pred2))"
   ]
  },
  {
   "cell_type": "code",
   "execution_count": 87,
   "id": "16751d2d",
   "metadata": {},
   "outputs": [
    {
     "name": "stdout",
     "output_type": "stream",
     "text": [
      "0.64822803562312\n",
      "0.6444797610400286\n"
     ]
    }
   ],
   "source": [
    "# R Squared\n",
    "print(metrics.r2_score(y_test,pred1)) #ridge\n",
    "print(metrics.r2_score(y_test,pred2)) #lasso"
   ]
  },
  {
   "cell_type": "code",
   "execution_count": 88,
   "id": "1120d688",
   "metadata": {},
   "outputs": [],
   "source": [
    "# As r2 Score is higher for Ridge regression we will use Ridge  Regression ML Model for Deployment."
   ]
  },
  {
   "cell_type": "markdown",
   "id": "3bc7a158",
   "metadata": {},
   "source": [
    "# LogisticRegression"
   ]
  },
  {
   "cell_type": "code",
   "execution_count": 89,
   "id": "d5ef96e5",
   "metadata": {},
   "outputs": [],
   "source": [
    "#Model Building\n",
    "from sklearn.linear_model import LogisticRegression"
   ]
  },
  {
   "cell_type": "code",
   "execution_count": 90,
   "id": "39c4db6e",
   "metadata": {},
   "outputs": [],
   "source": [
    "lr=LogisticRegression()"
   ]
  },
  {
   "cell_type": "code",
   "execution_count": 91,
   "id": "2de1cc31",
   "metadata": {},
   "outputs": [
    {
     "name": "stderr",
     "output_type": "stream",
     "text": [
      "D:\\Industrial Intern\\Applied Data Science\\Anaconda\\lib\\site-packages\\sklearn\\linear_model\\_logistic.py:458: ConvergenceWarning: lbfgs failed to converge (status=1):\n",
      "STOP: TOTAL NO. of ITERATIONS REACHED LIMIT.\n",
      "\n",
      "Increase the number of iterations (max_iter) or scale the data as shown in:\n",
      "    https://scikit-learn.org/stable/modules/preprocessing.html\n",
      "Please also refer to the documentation for alternative solver options:\n",
      "    https://scikit-learn.org/stable/modules/linear_model.html#logistic-regression\n",
      "  n_iter_i = _check_optimize_result(\n"
     ]
    },
    {
     "data": {
      "text/html": [
       "<style>#sk-container-id-6 {color: black;background-color: white;}#sk-container-id-6 pre{padding: 0;}#sk-container-id-6 div.sk-toggleable {background-color: white;}#sk-container-id-6 label.sk-toggleable__label {cursor: pointer;display: block;width: 100%;margin-bottom: 0;padding: 0.3em;box-sizing: border-box;text-align: center;}#sk-container-id-6 label.sk-toggleable__label-arrow:before {content: \"▸\";float: left;margin-right: 0.25em;color: #696969;}#sk-container-id-6 label.sk-toggleable__label-arrow:hover:before {color: black;}#sk-container-id-6 div.sk-estimator:hover label.sk-toggleable__label-arrow:before {color: black;}#sk-container-id-6 div.sk-toggleable__content {max-height: 0;max-width: 0;overflow: hidden;text-align: left;background-color: #f0f8ff;}#sk-container-id-6 div.sk-toggleable__content pre {margin: 0.2em;color: black;border-radius: 0.25em;background-color: #f0f8ff;}#sk-container-id-6 input.sk-toggleable__control:checked~div.sk-toggleable__content {max-height: 200px;max-width: 100%;overflow: auto;}#sk-container-id-6 input.sk-toggleable__control:checked~label.sk-toggleable__label-arrow:before {content: \"▾\";}#sk-container-id-6 div.sk-estimator input.sk-toggleable__control:checked~label.sk-toggleable__label {background-color: #d4ebff;}#sk-container-id-6 div.sk-label input.sk-toggleable__control:checked~label.sk-toggleable__label {background-color: #d4ebff;}#sk-container-id-6 input.sk-hidden--visually {border: 0;clip: rect(1px 1px 1px 1px);clip: rect(1px, 1px, 1px, 1px);height: 1px;margin: -1px;overflow: hidden;padding: 0;position: absolute;width: 1px;}#sk-container-id-6 div.sk-estimator {font-family: monospace;background-color: #f0f8ff;border: 1px dotted black;border-radius: 0.25em;box-sizing: border-box;margin-bottom: 0.5em;}#sk-container-id-6 div.sk-estimator:hover {background-color: #d4ebff;}#sk-container-id-6 div.sk-parallel-item::after {content: \"\";width: 100%;border-bottom: 1px solid gray;flex-grow: 1;}#sk-container-id-6 div.sk-label:hover label.sk-toggleable__label {background-color: #d4ebff;}#sk-container-id-6 div.sk-serial::before {content: \"\";position: absolute;border-left: 1px solid gray;box-sizing: border-box;top: 0;bottom: 0;left: 50%;z-index: 0;}#sk-container-id-6 div.sk-serial {display: flex;flex-direction: column;align-items: center;background-color: white;padding-right: 0.2em;padding-left: 0.2em;position: relative;}#sk-container-id-6 div.sk-item {position: relative;z-index: 1;}#sk-container-id-6 div.sk-parallel {display: flex;align-items: stretch;justify-content: center;background-color: white;position: relative;}#sk-container-id-6 div.sk-item::before, #sk-container-id-6 div.sk-parallel-item::before {content: \"\";position: absolute;border-left: 1px solid gray;box-sizing: border-box;top: 0;bottom: 0;left: 50%;z-index: -1;}#sk-container-id-6 div.sk-parallel-item {display: flex;flex-direction: column;z-index: 1;position: relative;background-color: white;}#sk-container-id-6 div.sk-parallel-item:first-child::after {align-self: flex-end;width: 50%;}#sk-container-id-6 div.sk-parallel-item:last-child::after {align-self: flex-start;width: 50%;}#sk-container-id-6 div.sk-parallel-item:only-child::after {width: 0;}#sk-container-id-6 div.sk-dashed-wrapped {border: 1px dashed gray;margin: 0 0.4em 0.5em 0.4em;box-sizing: border-box;padding-bottom: 0.4em;background-color: white;}#sk-container-id-6 div.sk-label label {font-family: monospace;font-weight: bold;display: inline-block;line-height: 1.2em;}#sk-container-id-6 div.sk-label-container {text-align: center;}#sk-container-id-6 div.sk-container {/* jupyter's `normalize.less` sets `[hidden] { display: none; }` but bootstrap.min.css set `[hidden] { display: none !important; }` so we also need the `!important` here to be able to override the default hidden behavior on the sphinx rendered scikit-learn.org. See: https://github.com/scikit-learn/scikit-learn/issues/21755 */display: inline-block !important;position: relative;}#sk-container-id-6 div.sk-text-repr-fallback {display: none;}</style><div id=\"sk-container-id-6\" class=\"sk-top-container\"><div class=\"sk-text-repr-fallback\"><pre>LogisticRegression()</pre><b>In a Jupyter environment, please rerun this cell to show the HTML representation or trust the notebook. <br />On GitHub, the HTML representation is unable to render, please try loading this page with nbviewer.org.</b></div><div class=\"sk-container\" hidden><div class=\"sk-item\"><div class=\"sk-estimator sk-toggleable\"><input class=\"sk-toggleable__control sk-hidden--visually\" id=\"sk-estimator-id-6\" type=\"checkbox\" checked><label for=\"sk-estimator-id-6\" class=\"sk-toggleable__label sk-toggleable__label-arrow\">LogisticRegression</label><div class=\"sk-toggleable__content\"><pre>LogisticRegression()</pre></div></div></div></div></div>"
      ],
      "text/plain": [
       "LogisticRegression()"
      ]
     },
     "execution_count": 91,
     "metadata": {},
     "output_type": "execute_result"
    }
   ],
   "source": [
    "lr.fit(X_train,y_train)"
   ]
  },
  {
   "cell_type": "code",
   "execution_count": 92,
   "id": "799c4434",
   "metadata": {},
   "outputs": [],
   "source": [
    "pred=lr.predict(X_test)"
   ]
  },
  {
   "cell_type": "code",
   "execution_count": 93,
   "id": "cf546b4f",
   "metadata": {},
   "outputs": [
    {
     "data": {
      "text/plain": [
       "array([4550000, 5950000, 4200000, 4760000, 4200000, 5600000, 3500000,\n",
       "       3010000, 3500000, 5950000, 5600000, 5600000, 4900000, 5950000,\n",
       "       5250000, 4200000, 5600000, 3500000, 4900000, 3920000, 5250000,\n",
       "       5250000, 5600000, 4200000, 5600000, 4900000, 3920000, 5950000,\n",
       "       4200000, 5950000, 3500000, 4200000, 8400000, 3500000, 4900000,\n",
       "       8400000, 4550000, 4900000, 5950000, 4200000, 8400000, 3500000,\n",
       "       5600000, 3500000, 3500000, 5600000, 4900000, 3500000, 4900000,\n",
       "       5950000, 3500000, 5950000, 4200000, 3500000, 3500000, 3500000,\n",
       "       5950000, 4550000, 3500000, 3500000, 4760000, 5600000, 4200000,\n",
       "       7350000, 4550000, 4200000, 3150000, 3500000, 5950000, 3920000,\n",
       "       4200000, 7350000, 4900000, 4900000, 4900000, 4900000, 4200000,\n",
       "       5950000, 4340000, 3500000, 4200000, 5250000, 4900000, 5950000,\n",
       "       3500000, 4200000, 4550000, 5250000, 4900000, 3920000, 3500000,\n",
       "       5950000, 5950000, 3640000, 4200000, 6300000, 4200000, 5950000,\n",
       "       4760000, 4760000, 5250000, 4200000, 4200000, 4200000, 5600000,\n",
       "       5600000, 3150000, 3500000, 5950000], dtype=int64)"
      ]
     },
     "execution_count": 93,
     "metadata": {},
     "output_type": "execute_result"
    }
   ],
   "source": [
    "pred"
   ]
  },
  {
   "cell_type": "code",
   "execution_count": 94,
   "id": "23d8416a",
   "metadata": {},
   "outputs": [],
   "source": [
    "pred1=lr.predict(X_train)"
   ]
  },
  {
   "cell_type": "code",
   "execution_count": 95,
   "id": "49332849",
   "metadata": {},
   "outputs": [
    {
     "data": {
      "text/plain": [
       "array([3500000, 3500000, 3500000, 3500000, 5250000, 5600000, 4550000,\n",
       "       5950000, 3500000, 3640000, 4760000, 5600000, 4200000, 3500000,\n",
       "       4900000, 3500000, 3500000, 5950000, 5250000, 3150000, 4200000,\n",
       "       5600000, 5950000, 4200000, 3500000, 3500000, 5250000, 3500000,\n",
       "       4200000, 3500000, 3500000, 4550000, 3500000, 5250000, 4900000,\n",
       "       5950000, 8400000, 4200000, 5250000, 5250000, 4200000, 8400000,\n",
       "       3500000, 3500000, 5250000, 4900000, 5950000, 8400000, 5950000,\n",
       "       4200000, 3500000, 3500000, 4200000, 4760000, 7350000, 3500000,\n",
       "       3500000, 3500000, 4200000, 4200000, 4200000, 3500000, 5600000,\n",
       "       4550000, 5250000, 7350000, 5950000, 3500000, 3500000, 3500000,\n",
       "       3500000, 3920000, 5950000, 3500000, 5250000, 5600000, 3500000,\n",
       "       5250000, 3500000, 5950000, 5950000, 7350000, 5250000, 4200000,\n",
       "       3500000, 7350000, 4550000, 5600000, 3500000, 5600000, 6300000,\n",
       "       5950000, 3500000, 5950000, 4900000, 3500000, 5250000, 5950000,\n",
       "       3500000, 4900000, 5600000, 3500000, 5250000, 5950000, 5950000,\n",
       "       4550000, 4550000, 3500000, 3500000, 5250000, 5250000, 4900000,\n",
       "       4200000, 5600000, 8400000, 3500000, 4760000, 3500000, 3500000,\n",
       "       5950000, 3640000, 3500000, 5950000, 4900000, 4900000, 4200000,\n",
       "       4200000, 5600000, 3500000, 3500000, 4900000, 4900000, 5950000,\n",
       "       3150000, 3500000, 3640000, 5040000, 5250000, 4200000, 3500000,\n",
       "       5950000, 5250000, 3500000, 5950000, 5600000, 4200000, 5040000,\n",
       "       3500000, 5600000, 3500000, 5600000, 5250000, 3920000, 5950000,\n",
       "       4550000, 5600000, 5600000, 4900000, 5600000, 3500000, 3640000,\n",
       "       5600000, 3920000, 4900000, 3150000, 4200000, 3500000, 4760000,\n",
       "       4550000, 3640000, 5950000, 3500000, 5250000, 4900000, 3500000,\n",
       "       4200000, 4900000, 3500000, 3500000, 4550000, 4200000, 3920000,\n",
       "       4200000, 4200000, 3500000, 4900000, 3500000, 3640000, 3150000,\n",
       "       4200000, 5600000, 4760000, 4550000, 4550000, 3500000, 4200000,\n",
       "       4200000, 3500000, 4200000, 4200000, 5600000, 4200000, 7350000,\n",
       "       4900000, 4900000, 3500000, 3500000, 3500000, 4900000, 4200000,\n",
       "       5950000, 5250000, 3010000, 4200000, 5250000, 3500000, 3500000,\n",
       "       5600000, 4200000, 5950000, 4200000, 3500000, 5950000, 3500000,\n",
       "       3500000, 5600000, 3500000, 4200000, 4900000, 3640000, 5950000,\n",
       "       3150000, 5950000, 3500000, 4900000, 5950000, 8400000, 8400000,\n",
       "       3150000, 3500000, 5950000, 5950000, 3500000, 3500000, 5600000,\n",
       "       4200000, 4900000, 8400000, 4200000, 3500000, 3500000, 4200000,\n",
       "       4900000, 4550000, 3500000, 5600000, 5600000, 4900000, 5950000,\n",
       "       3920000, 5250000, 4900000, 4900000, 3150000, 3920000, 5600000,\n",
       "       3500000, 5950000, 5600000, 4550000, 3500000, 3500000, 3500000,\n",
       "       3920000, 3500000, 5600000, 3500000, 3500000, 5950000, 5600000,\n",
       "       3640000, 2450000, 3500000, 3500000, 5600000, 3500000, 3920000,\n",
       "       4200000, 4760000, 3500000, 4900000, 5600000, 4900000, 4900000,\n",
       "       5600000, 4200000, 5950000, 4200000, 3500000, 4900000, 5950000,\n",
       "       3500000, 4550000, 4550000, 3640000, 3500000, 3500000, 5600000,\n",
       "       3500000, 5950000, 5950000, 5600000, 5600000, 5600000, 4200000,\n",
       "       5600000, 3500000, 3500000, 3500000, 3500000, 5950000, 4760000,\n",
       "       5600000, 5950000, 3500000, 4200000, 3500000, 5250000, 5950000,\n",
       "       3500000, 4550000, 8400000, 3500000, 5950000, 4550000, 4900000,\n",
       "       3500000, 5250000, 3640000, 3500000, 4900000, 3500000, 3920000,\n",
       "       4200000, 4200000, 3920000, 5950000, 4550000, 5600000, 4200000,\n",
       "       4550000, 4200000, 5250000, 5600000, 5950000, 4550000, 3640000,\n",
       "       3640000, 5600000, 5950000, 4200000, 5250000, 3500000, 5950000,\n",
       "       5600000, 4200000, 3920000, 3640000, 4200000, 3150000, 5600000,\n",
       "       3500000, 8400000, 8400000, 4900000, 5600000, 3500000, 4550000,\n",
       "       4340000, 5950000, 3500000, 4200000, 4900000, 4200000, 5950000,\n",
       "       5950000, 5250000, 3500000, 3500000, 3920000, 3500000, 4200000,\n",
       "       5950000, 3920000, 3500000, 4550000, 5250000, 4550000, 8400000,\n",
       "       3500000, 7350000, 4900000, 3500000, 3920000, 4550000, 3500000,\n",
       "       7350000, 3500000, 5950000, 3500000, 5250000, 3500000, 3500000,\n",
       "       4550000, 5600000, 4200000, 4900000, 3500000, 3500000, 5250000,\n",
       "       4900000, 3500000, 4200000, 5250000, 4900000, 4900000, 4550000,\n",
       "       5250000, 3500000, 3500000, 4550000, 3640000, 4760000, 7350000,\n",
       "       3500000, 5950000], dtype=int64)"
      ]
     },
     "execution_count": 95,
     "metadata": {},
     "output_type": "execute_result"
    }
   ],
   "source": [
    "pred1"
   ]
  },
  {
   "cell_type": "code",
   "execution_count": 96,
   "id": "6a74893f",
   "metadata": {},
   "outputs": [
    {
     "data": {
      "text/plain": [
       "0.08027522935779817"
      ]
     },
     "execution_count": 96,
     "metadata": {},
     "output_type": "execute_result"
    }
   ],
   "source": [
    "accuracy_score(y_train,pred1)"
   ]
  },
  {
   "cell_type": "code",
   "execution_count": 97,
   "id": "432c6fc6",
   "metadata": {},
   "outputs": [
    {
     "data": {
      "text/plain": [
       "0.03669724770642202"
      ]
     },
     "execution_count": 97,
     "metadata": {},
     "output_type": "execute_result"
    }
   ],
   "source": [
    "accuracy_score(y_test,pred)"
   ]
  },
  {
   "cell_type": "code",
   "execution_count": 98,
   "id": "99e2dbd0",
   "metadata": {},
   "outputs": [
    {
     "data": {
      "text/plain": [
       "array([[0, 0, 0, ..., 0, 0, 0],\n",
       "       [0, 0, 0, ..., 0, 0, 0],\n",
       "       [0, 0, 0, ..., 0, 0, 0],\n",
       "       ...,\n",
       "       [0, 0, 0, ..., 0, 0, 0],\n",
       "       [0, 0, 0, ..., 0, 0, 0],\n",
       "       [0, 0, 0, ..., 0, 0, 0]], dtype=int64)"
      ]
     },
     "execution_count": 98,
     "metadata": {},
     "output_type": "execute_result"
    }
   ],
   "source": [
    "confusion_matrix(y_test,pred)"
   ]
  },
  {
   "cell_type": "code",
   "execution_count": 99,
   "id": "c27e8b4b",
   "metadata": {},
   "outputs": [
    {
     "name": "stdout",
     "output_type": "stream",
     "text": [
      "              precision    recall  f1-score   support\n",
      "\n",
      "     1750000       0.00      0.00      0.00         1\n",
      "     1890000       0.00      0.00      0.00         1\n",
      "     1960000       0.00      0.00      0.00         1\n",
      "     2380000       0.00      0.00      0.00         1\n",
      "     2660000       0.00      0.00      0.00         1\n",
      "     2835000       0.00      0.00      0.00         1\n",
      "     2940000       0.00      0.00      0.00         2\n",
      "     3010000       0.00      0.00      0.00         0\n",
      "     3080000       0.00      0.00      0.00         2\n",
      "     3129000       0.00      0.00      0.00         1\n",
      "     3150000       0.00      0.00      0.00         3\n",
      "     3290000       0.00      0.00      0.00         5\n",
      "     3325000       0.00      0.00      0.00         1\n",
      "     3332000       0.00      0.00      0.00         1\n",
      "     3360000       0.00      0.00      0.00         1\n",
      "     3395000       0.00      0.00      0.00         1\n",
      "     3500000       0.15      0.60      0.24         5\n",
      "     3535000       0.00      0.00      0.00         1\n",
      "     3570000       0.00      0.00      0.00         1\n",
      "     3605000       0.00      0.00      0.00         1\n",
      "     3633000       0.00      0.00      0.00         1\n",
      "     3640000       0.00      0.00      0.00         1\n",
      "     3703000       0.00      0.00      0.00         1\n",
      "     3710000       0.00      0.00      0.00         1\n",
      "     3780000       0.00      0.00      0.00         3\n",
      "     3815000       0.00      0.00      0.00         1\n",
      "     3850000       0.00      0.00      0.00         2\n",
      "     3885000       0.00      0.00      0.00         1\n",
      "     3920000       0.00      0.00      0.00         1\n",
      "     3990000       0.00      0.00      0.00         1\n",
      "     4007500       0.00      0.00      0.00         1\n",
      "     4060000       0.00      0.00      0.00         1\n",
      "     4098500       0.00      0.00      0.00         1\n",
      "     4123000       0.00      0.00      0.00         1\n",
      "     4130000       0.00      0.00      0.00         1\n",
      "     4165000       0.00      0.00      0.00         2\n",
      "     4200000       0.00      0.00      0.00         2\n",
      "     4270000       0.00      0.00      0.00         3\n",
      "     4305000       0.00      0.00      0.00         1\n",
      "     4340000       0.00      0.00      0.00         1\n",
      "     4410000       0.00      0.00      0.00         1\n",
      "     4550000       0.00      0.00      0.00         0\n",
      "     4585000       0.00      0.00      0.00         1\n",
      "     4613000       0.00      0.00      0.00         1\n",
      "     4620000       0.00      0.00      0.00         3\n",
      "     4690000       0.00      0.00      0.00         1\n",
      "     4753000       0.00      0.00      0.00         1\n",
      "     4760000       0.00      0.00      0.00         0\n",
      "     4795000       0.00      0.00      0.00         1\n",
      "     4900000       0.00      0.00      0.00         3\n",
      "     4970000       0.00      0.00      0.00         1\n",
      "     5005000       0.00      0.00      0.00         1\n",
      "     5075000       0.00      0.00      0.00         1\n",
      "     5110000       0.00      0.00      0.00         1\n",
      "     5250000       0.00      0.00      0.00         1\n",
      "     5383000       0.00      0.00      0.00         1\n",
      "     5460000       0.00      0.00      0.00         2\n",
      "     5495000       0.00      0.00      0.00         1\n",
      "     5530000       0.00      0.00      0.00         2\n",
      "     5600000       0.00      0.00      0.00         1\n",
      "     5740000       0.00      0.00      0.00         2\n",
      "     5803000       0.00      0.00      0.00         1\n",
      "     5810000       0.00      0.00      0.00         1\n",
      "     5950000       0.06      1.00      0.12         1\n",
      "     6083000       0.00      0.00      0.00         1\n",
      "     6107500       0.00      0.00      0.00         1\n",
      "     6125000       0.00      0.00      0.00         1\n",
      "     6195000       0.00      0.00      0.00         2\n",
      "     6300000       0.00      0.00      0.00         1\n",
      "     6440000       0.00      0.00      0.00         2\n",
      "     6510000       0.00      0.00      0.00         1\n",
      "     6650000       0.00      0.00      0.00         3\n",
      "     6755000       0.00      0.00      0.00         1\n",
      "     6930000       0.00      0.00      0.00         1\n",
      "     7350000       0.00      0.00      0.00         0\n",
      "     7525000       0.00      0.00      0.00         1\n",
      "     7560000       0.00      0.00      0.00         1\n",
      "     7980000       0.00      0.00      0.00         1\n",
      "     8400000       0.00      0.00      0.00         0\n",
      "     8680000       0.00      0.00      0.00         1\n",
      "     8960000       0.00      0.00      0.00         1\n",
      "     9100000       0.00      0.00      0.00         1\n",
      "     9310000       0.00      0.00      0.00         1\n",
      "    12250000       0.00      0.00      0.00         1\n",
      "\n",
      "    accuracy                           0.04       109\n",
      "   macro avg       0.00      0.02      0.00       109\n",
      "weighted avg       0.01      0.04      0.01       109\n",
      "\n"
     ]
    },
    {
     "name": "stderr",
     "output_type": "stream",
     "text": [
      "D:\\Industrial Intern\\Applied Data Science\\Anaconda\\lib\\site-packages\\sklearn\\metrics\\_classification.py:1344: UndefinedMetricWarning: Precision and F-score are ill-defined and being set to 0.0 in labels with no predicted samples. Use `zero_division` parameter to control this behavior.\n",
      "  _warn_prf(average, modifier, msg_start, len(result))\n",
      "D:\\Industrial Intern\\Applied Data Science\\Anaconda\\lib\\site-packages\\sklearn\\metrics\\_classification.py:1344: UndefinedMetricWarning: Recall and F-score are ill-defined and being set to 0.0 in labels with no true samples. Use `zero_division` parameter to control this behavior.\n",
      "  _warn_prf(average, modifier, msg_start, len(result))\n",
      "D:\\Industrial Intern\\Applied Data Science\\Anaconda\\lib\\site-packages\\sklearn\\metrics\\_classification.py:1344: UndefinedMetricWarning: Precision and F-score are ill-defined and being set to 0.0 in labels with no predicted samples. Use `zero_division` parameter to control this behavior.\n",
      "  _warn_prf(average, modifier, msg_start, len(result))\n",
      "D:\\Industrial Intern\\Applied Data Science\\Anaconda\\lib\\site-packages\\sklearn\\metrics\\_classification.py:1344: UndefinedMetricWarning: Recall and F-score are ill-defined and being set to 0.0 in labels with no true samples. Use `zero_division` parameter to control this behavior.\n",
      "  _warn_prf(average, modifier, msg_start, len(result))\n",
      "D:\\Industrial Intern\\Applied Data Science\\Anaconda\\lib\\site-packages\\sklearn\\metrics\\_classification.py:1344: UndefinedMetricWarning: Precision and F-score are ill-defined and being set to 0.0 in labels with no predicted samples. Use `zero_division` parameter to control this behavior.\n",
      "  _warn_prf(average, modifier, msg_start, len(result))\n",
      "D:\\Industrial Intern\\Applied Data Science\\Anaconda\\lib\\site-packages\\sklearn\\metrics\\_classification.py:1344: UndefinedMetricWarning: Recall and F-score are ill-defined and being set to 0.0 in labels with no true samples. Use `zero_division` parameter to control this behavior.\n",
      "  _warn_prf(average, modifier, msg_start, len(result))\n"
     ]
    }
   ],
   "source": [
    "print(classification_report(y_test,pred))"
   ]
  },
  {
   "cell_type": "markdown",
   "id": "8a8d6d3b",
   "metadata": {},
   "source": [
    "# SVM- Non Linear Kernel"
   ]
  },
  {
   "cell_type": "code",
   "execution_count": 100,
   "id": "47a0a658",
   "metadata": {},
   "outputs": [],
   "source": [
    "from sklearn.svm import SVC"
   ]
  },
  {
   "cell_type": "code",
   "execution_count": 101,
   "id": "d59fef34",
   "metadata": {
    "scrolled": true
   },
   "outputs": [],
   "source": [
    "model2=SVC(kernel='rbf')"
   ]
  },
  {
   "cell_type": "code",
   "execution_count": 102,
   "id": "1672a092",
   "metadata": {
    "scrolled": true
   },
   "outputs": [],
   "source": [
    "#trainining the model\n",
    "fit=model2.fit(X_train,y_train)"
   ]
  },
  {
   "cell_type": "code",
   "execution_count": 103,
   "id": "69c7273b",
   "metadata": {},
   "outputs": [],
   "source": [
    "#testing the model\n",
    "pred=fit.predict(X_test)"
   ]
  },
  {
   "cell_type": "code",
   "execution_count": 104,
   "id": "368aa1bc",
   "metadata": {},
   "outputs": [
    {
     "data": {
      "text/plain": [
       "array([[0, 0, 0, ..., 0, 0, 0],\n",
       "       [0, 0, 0, ..., 0, 0, 0],\n",
       "       [0, 0, 0, ..., 0, 0, 0],\n",
       "       ...,\n",
       "       [0, 0, 0, ..., 0, 0, 0],\n",
       "       [0, 0, 0, ..., 0, 0, 0],\n",
       "       [0, 0, 0, ..., 0, 0, 0]], dtype=int64)"
      ]
     },
     "execution_count": 104,
     "metadata": {},
     "output_type": "execute_result"
    }
   ],
   "source": [
    "# Evaluate the model\n",
    "confusion_matrix(pred,y_test)"
   ]
  },
  {
   "cell_type": "code",
   "execution_count": 105,
   "id": "cb5bb834",
   "metadata": {},
   "outputs": [
    {
     "data": {
      "text/plain": [
       "0.027522935779816515"
      ]
     },
     "execution_count": 105,
     "metadata": {},
     "output_type": "execute_result"
    }
   ],
   "source": [
    "accuracy_score(y_test,pred)"
   ]
  },
  {
   "cell_type": "markdown",
   "id": "c9e7d85c",
   "metadata": {},
   "source": [
    "### Ridge Regression has the highest rate of accuracy(0.6482) comparatively from the other regression models"
   ]
  },
  {
   "cell_type": "code",
   "execution_count": null,
   "id": "a0697ab4",
   "metadata": {},
   "outputs": [],
   "source": []
  }
 ],
 "metadata": {
  "kernelspec": {
   "display_name": "Python 3 (ipykernel)",
   "language": "python",
   "name": "python3"
  },
  "language_info": {
   "codemirror_mode": {
    "name": "ipython",
    "version": 3
   },
   "file_extension": ".py",
   "mimetype": "text/x-python",
   "name": "python",
   "nbconvert_exporter": "python",
   "pygments_lexer": "ipython3",
   "version": "3.10.9"
  }
 },
 "nbformat": 4,
 "nbformat_minor": 5
}
