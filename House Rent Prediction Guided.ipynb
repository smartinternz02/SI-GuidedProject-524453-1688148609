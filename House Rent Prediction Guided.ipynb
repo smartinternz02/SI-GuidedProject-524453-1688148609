{
 "cells": [
  {
   "cell_type": "code",
   "execution_count": 1,
   "id": "9c11a4dc",
   "metadata": {},
   "outputs": [],
   "source": [
    "#Importing required Libraries\n",
    "import numpy as np\n",
    "import pandas as pd\n",
    "import matplotlib.pyplot as plt\n",
    "%matplotlib inline\n",
    "from sklearn.preprocessing import LabelEncoder\n",
    "from sklearn.model_selection import train_test_split\n",
    "from sklearn.preprocessing import StandardScaler\n",
    "from sklearn.linear_model import LinearRegression\n",
    "from sklearn.ensemble import RandomForestRegressor\n",
    "from sklearn.ensemble import GradientBoostingRegressor\n",
    "from sklearn.metrics import r2_score,mean_squared_error\n",
    "import pickle\n",
    "import seaborn as sns\n",
    "from scipy import stats\n",
    "plt.style.use('fivethirtyeight')\n",
    "import warnings\n",
    "warnings .filterwarnings('ignore')"
   ]
  },
  {
   "cell_type": "code",
   "execution_count": 2,
   "id": "313a1f29",
   "metadata": {},
   "outputs": [],
   "source": [
    "df=pd.read_csv('99acres_data.csv')"
   ]
  },
  {
   "cell_type": "code",
   "execution_count": 3,
   "id": "f2356f6e",
   "metadata": {},
   "outputs": [
    {
     "data": {
      "text/html": [
       "<div>\n",
       "<style scoped>\n",
       "    .dataframe tbody tr th:only-of-type {\n",
       "        vertical-align: middle;\n",
       "    }\n",
       "\n",
       "    .dataframe tbody tr th {\n",
       "        vertical-align: top;\n",
       "    }\n",
       "\n",
       "    .dataframe thead th {\n",
       "        text-align: right;\n",
       "    }\n",
       "</style>\n",
       "<table border=\"1\" class=\"dataframe\">\n",
       "  <thead>\n",
       "    <tr style=\"text-align: right;\">\n",
       "      <th></th>\n",
       "      <th>city</th>\n",
       "      <th>monthly_rant</th>\n",
       "      <th>BHKS</th>\n",
       "      <th>Baths</th>\n",
       "      <th>sqft_per_inch</th>\n",
       "      <th>build_up_area</th>\n",
       "      <th>Type_of_property</th>\n",
       "      <th>location_of_the_property</th>\n",
       "      <th>deposit</th>\n",
       "    </tr>\n",
       "  </thead>\n",
       "  <tbody>\n",
       "    <tr>\n",
       "      <th>0</th>\n",
       "      <td>mumbai</td>\n",
       "      <td>17500.0</td>\n",
       "      <td>1.0</td>\n",
       "      <td>2 Baths</td>\n",
       "      <td>470</td>\n",
       "      <td>Carpet Area</td>\n",
       "      <td>Residential</td>\n",
       "      <td>Kolshet Road</td>\n",
       "      <td>75000.0</td>\n",
       "    </tr>\n",
       "    <tr>\n",
       "      <th>1</th>\n",
       "      <td>mumbai</td>\n",
       "      <td>75000.0</td>\n",
       "      <td>3.0</td>\n",
       "      <td>3 Baths</td>\n",
       "      <td>1800</td>\n",
       "      <td>Super built-up Area</td>\n",
       "      <td>Residential</td>\n",
       "      <td>Sector 21 Nerul</td>\n",
       "      <td>400000.0</td>\n",
       "    </tr>\n",
       "    <tr>\n",
       "      <th>2</th>\n",
       "      <td>mumbai</td>\n",
       "      <td>60000.0</td>\n",
       "      <td>2.0</td>\n",
       "      <td>2 Baths</td>\n",
       "      <td>950</td>\n",
       "      <td>Super built-up Area</td>\n",
       "      <td>Residential</td>\n",
       "      <td>Wadala</td>\n",
       "      <td>200000.0</td>\n",
       "    </tr>\n",
       "    <tr>\n",
       "      <th>3</th>\n",
       "      <td>mumbai</td>\n",
       "      <td>52000.0</td>\n",
       "      <td>3.0</td>\n",
       "      <td>3 Baths</td>\n",
       "      <td>1300</td>\n",
       "      <td>Carpet Area</td>\n",
       "      <td>Residential</td>\n",
       "      <td>Hiranandani Estate</td>\n",
       "      <td>300000.0</td>\n",
       "    </tr>\n",
       "    <tr>\n",
       "      <th>4</th>\n",
       "      <td>mumbai</td>\n",
       "      <td>30000.0</td>\n",
       "      <td>1.0</td>\n",
       "      <td>1 Bath</td>\n",
       "      <td>550</td>\n",
       "      <td>Built-up Area</td>\n",
       "      <td>Residential</td>\n",
       "      <td>Kanjurmarg (East)</td>\n",
       "      <td>150000.0</td>\n",
       "    </tr>\n",
       "  </tbody>\n",
       "</table>\n",
       "</div>"
      ],
      "text/plain": [
       "     city  monthly_rant  BHKS    Baths  sqft_per_inch        build_up_area  \\\n",
       "0  mumbai       17500.0   1.0  2 Baths            470          Carpet Area   \n",
       "1  mumbai       75000.0   3.0  3 Baths           1800  Super built-up Area   \n",
       "2  mumbai       60000.0   2.0  2 Baths            950  Super built-up Area   \n",
       "3  mumbai       52000.0   3.0  3 Baths           1300          Carpet Area   \n",
       "4  mumbai       30000.0   1.0   1 Bath            550        Built-up Area   \n",
       "\n",
       "  Type_of_property location_of_the_property   deposit  \n",
       "0      Residential             Kolshet Road   75000.0  \n",
       "1      Residential          Sector 21 Nerul  400000.0  \n",
       "2      Residential                   Wadala  200000.0  \n",
       "3      Residential       Hiranandani Estate  300000.0  \n",
       "4      Residential        Kanjurmarg (East)  150000.0  "
      ]
     },
     "execution_count": 3,
     "metadata": {},
     "output_type": "execute_result"
    }
   ],
   "source": [
    "df.head()"
   ]
  },
  {
   "cell_type": "code",
   "execution_count": 4,
   "id": "ce68f192",
   "metadata": {},
   "outputs": [
    {
     "name": "stdout",
     "output_type": "stream",
     "text": [
      "Numbers Of Area Type :\n",
      "\n",
      "Super built-up Area    69918\n",
      "Carpet Area            36847\n",
      "Built-up Area          29104\n",
      "Plot Area              10659\n",
      "Name: build_up_area, dtype: int64\n"
     ]
    },
    {
     "data": {
      "text/plain": [
       "<Axes: xlabel='build_up_area', ylabel='count'>"
      ]
     },
     "execution_count": 4,
     "metadata": {},
     "output_type": "execute_result"
    },
    {
     "data": {
      "image/png": "[encoded data removed]",
      "text/plain": [
       "<Figure size 800x400 with 1 Axes>"
      ]
     },
     "metadata": {},
     "output_type": "display_data"
    }
   ],
   "source": [
    "print(\"Numbers Of Area Type :\")\n",
    "print()\n",
    "print(df['build_up_area'].value_counts())\n",
    "sns.set(rc = {'figure.figsize':(8,4)})\n",
    "sns.countplot(x='build_up_area', data=df, palette ='Set2')"
   ]
  },
  {
   "cell_type": "code",
   "execution_count": 5,
   "id": "a3531c40",
   "metadata": {},
   "outputs": [
    {
     "name": "stdout",
     "output_type": "stream",
     "text": [
      "Types of Property :\n",
      "\n",
      "Residential    102024\n",
      "Independent     41243\n",
      "Studio           2606\n",
      "Serviced          363\n",
      "Farm              161\n",
      "for               118\n",
      "Floor              13\n",
      "Name: Type_of_property, dtype: int64\n"
     ]
    },
    {
     "data": {
      "text/plain": [
       "<Axes: xlabel='Type_of_property', ylabel='count'>"
      ]
     },
     "execution_count": 5,
     "metadata": {},
     "output_type": "execute_result"
    },
    {
     "data": {
      "image/png": "[encoded data removed]",
      "text/plain": [
       "<Figure size 1500x400 with 1 Axes>"
      ]
     },
     "metadata": {},
     "output_type": "display_data"
    }
   ],
   "source": [
    "print(\"Types of Property :\")\n",
    "print()\n",
    "print(df['Type_of_property'].value_counts())\n",
    "sns.set(rc = {'figure.figsize':(15,4)})\n",
    "sns.countplot(x='Type_of_property', data=df, palette ='Set2')"
   ]
  },
  {
   "cell_type": "code",
   "execution_count": 6,
   "id": "084fe748",
   "metadata": {},
   "outputs": [
    {
     "name": "stdout",
     "output_type": "stream",
     "text": [
      "Property Location Based on City : \n",
      "\n",
      "ncr            42016\n",
      "mumbai         37566\n",
      "bangalore      25600\n",
      "pune           18176\n",
      "chennai         9973\n",
      "hyderabad       7131\n",
      "Ahmedabad       5602\n",
      "Trivandraum      464\n",
      "Name: city, dtype: int64\n"
     ]
    },
    {
     "data": {
      "text/plain": [
       "<Axes: xlabel='city', ylabel='count'>"
      ]
     },
     "execution_count": 6,
     "metadata": {},
     "output_type": "execute_result"
    },
    {
     "data": {
      "image/png": "[encoded data removed]",
      "text/plain": [
       "<Figure size 1000x200 with 1 Axes>"
      ]
     },
     "metadata": {},
     "output_type": "display_data"
    }
   ],
   "source": [
    "print(\"Property Location Based on City : \")\n",
    "print()\n",
    "print(df['city'].value_counts())\n",
    "sns.set(rc = {'figure.figsize':(10,2)})\n",
    "sns.countplot(x='city', data=df, palette ='Set2')"
   ]
  },
  {
   "cell_type": "code",
   "execution_count": 7,
   "id": "1f4da068",
   "metadata": {},
   "outputs": [
    {
     "data": {
      "text/plain": [
       "<Axes: xlabel='monthly_rant'>"
      ]
     },
     "execution_count": 7,
     "metadata": {},
     "output_type": "execute_result"
    },
    {
     "data": {
      "image/png": "[encoded data removed]",
      "text/plain": [
       "<Figure size 1000x200 with 1 Axes>"
      ]
     },
     "metadata": {},
     "output_type": "display_data"
    }
   ],
   "source": [
    "sns.boxplot(x=df['monthly_rant'])"
   ]
  },
  {
   "cell_type": "code",
   "execution_count": 8,
   "id": "d0841432",
   "metadata": {},
   "outputs": [
    {
     "data": {
      "text/plain": [
       "<Axes: >"
      ]
     },
     "execution_count": 8,
     "metadata": {},
     "output_type": "execute_result"
    },
    {
     "data": {
      "image/png": "[encoded data removed]",
      "text/plain": [
       "<Figure size 1000x200 with 2 Axes>"
      ]
     },
     "metadata": {},
     "output_type": "display_data"
    }
   ],
   "source": [
    "sns.heatmap(df.corr(),annot=True)"
   ]
  },
  {
   "cell_type": "code",
   "execution_count": 9,
   "id": "7588d87c",
   "metadata": {},
   "outputs": [
    {
     "data": {
      "text/html": [
       "<div>\n",
       "<style scoped>\n",
       "    .dataframe tbody tr th:only-of-type {\n",
       "        vertical-align: middle;\n",
       "    }\n",
       "\n",
       "    .dataframe tbody tr th {\n",
       "        vertical-align: top;\n",
       "    }\n",
       "\n",
       "    .dataframe thead th {\n",
       "        text-align: right;\n",
       "    }\n",
       "</style>\n",
       "<table border=\"1\" class=\"dataframe\">\n",
       "  <thead>\n",
       "    <tr style=\"text-align: right;\">\n",
       "      <th></th>\n",
       "      <th>city</th>\n",
       "      <th>monthly_rant</th>\n",
       "      <th>BHKS</th>\n",
       "      <th>Baths</th>\n",
       "      <th>sqft_per_inch</th>\n",
       "      <th>build_up_area</th>\n",
       "      <th>Type_of_property</th>\n",
       "      <th>location_of_the_property</th>\n",
       "      <th>deposit</th>\n",
       "    </tr>\n",
       "  </thead>\n",
       "  <tbody>\n",
       "    <tr>\n",
       "      <th>count</th>\n",
       "      <td>146528</td>\n",
       "      <td>1.465280e+05</td>\n",
       "      <td>146528.000000</td>\n",
       "      <td>146528</td>\n",
       "      <td>1.465280e+05</td>\n",
       "      <td>146528</td>\n",
       "      <td>146528</td>\n",
       "      <td>146528</td>\n",
       "      <td>1.465280e+05</td>\n",
       "    </tr>\n",
       "    <tr>\n",
       "      <th>unique</th>\n",
       "      <td>8</td>\n",
       "      <td>NaN</td>\n",
       "      <td>NaN</td>\n",
       "      <td>41</td>\n",
       "      <td>NaN</td>\n",
       "      <td>4</td>\n",
       "      <td>7</td>\n",
       "      <td>12555</td>\n",
       "      <td>NaN</td>\n",
       "    </tr>\n",
       "    <tr>\n",
       "      <th>top</th>\n",
       "      <td>ncr</td>\n",
       "      <td>NaN</td>\n",
       "      <td>NaN</td>\n",
       "      <td>2 Baths</td>\n",
       "      <td>NaN</td>\n",
       "      <td>Super built-up Area</td>\n",
       "      <td>Residential</td>\n",
       "      <td>Goregaon (East)</td>\n",
       "      <td>NaN</td>\n",
       "    </tr>\n",
       "    <tr>\n",
       "      <th>freq</th>\n",
       "      <td>42016</td>\n",
       "      <td>NaN</td>\n",
       "      <td>NaN</td>\n",
       "      <td>68767</td>\n",
       "      <td>NaN</td>\n",
       "      <td>69918</td>\n",
       "      <td>102024</td>\n",
       "      <td>807</td>\n",
       "      <td>NaN</td>\n",
       "    </tr>\n",
       "    <tr>\n",
       "      <th>mean</th>\n",
       "      <td>NaN</td>\n",
       "      <td>3.414242e+04</td>\n",
       "      <td>2.159703</td>\n",
       "      <td>NaN</td>\n",
       "      <td>2.463806e+03</td>\n",
       "      <td>NaN</td>\n",
       "      <td>NaN</td>\n",
       "      <td>NaN</td>\n",
       "      <td>1.203667e+05</td>\n",
       "    </tr>\n",
       "    <tr>\n",
       "      <th>std</th>\n",
       "      <td>NaN</td>\n",
       "      <td>8.428243e+04</td>\n",
       "      <td>1.107673</td>\n",
       "      <td>NaN</td>\n",
       "      <td>1.816119e+05</td>\n",
       "      <td>NaN</td>\n",
       "      <td>NaN</td>\n",
       "      <td>NaN</td>\n",
       "      <td>2.937736e+05</td>\n",
       "    </tr>\n",
       "    <tr>\n",
       "      <th>min</th>\n",
       "      <td>NaN</td>\n",
       "      <td>5.000000e+02</td>\n",
       "      <td>1.000000</td>\n",
       "      <td>NaN</td>\n",
       "      <td>1.000000e+00</td>\n",
       "      <td>NaN</td>\n",
       "      <td>NaN</td>\n",
       "      <td>NaN</td>\n",
       "      <td>0.000000e+00</td>\n",
       "    </tr>\n",
       "    <tr>\n",
       "      <th>25%</th>\n",
       "      <td>NaN</td>\n",
       "      <td>1.300000e+04</td>\n",
       "      <td>1.000000</td>\n",
       "      <td>NaN</td>\n",
       "      <td>6.800000e+02</td>\n",
       "      <td>NaN</td>\n",
       "      <td>NaN</td>\n",
       "      <td>NaN</td>\n",
       "      <td>3.000000e+04</td>\n",
       "    </tr>\n",
       "    <tr>\n",
       "      <th>50%</th>\n",
       "      <td>NaN</td>\n",
       "      <td>2.000000e+04</td>\n",
       "      <td>2.000000</td>\n",
       "      <td>NaN</td>\n",
       "      <td>1.057000e+03</td>\n",
       "      <td>NaN</td>\n",
       "      <td>NaN</td>\n",
       "      <td>NaN</td>\n",
       "      <td>6.000000e+04</td>\n",
       "    </tr>\n",
       "    <tr>\n",
       "      <th>75%</th>\n",
       "      <td>NaN</td>\n",
       "      <td>3.290000e+04</td>\n",
       "      <td>3.000000</td>\n",
       "      <td>NaN</td>\n",
       "      <td>1.500000e+03</td>\n",
       "      <td>NaN</td>\n",
       "      <td>NaN</td>\n",
       "      <td>NaN</td>\n",
       "      <td>1.250000e+05</td>\n",
       "    </tr>\n",
       "    <tr>\n",
       "      <th>max</th>\n",
       "      <td>NaN</td>\n",
       "      <td>9.917000e+06</td>\n",
       "      <td>95.000000</td>\n",
       "      <td>NaN</td>\n",
       "      <td>4.356000e+07</td>\n",
       "      <td>NaN</td>\n",
       "      <td>NaN</td>\n",
       "      <td>NaN</td>\n",
       "      <td>2.100000e+07</td>\n",
       "    </tr>\n",
       "  </tbody>\n",
       "</table>\n",
       "</div>"
      ],
      "text/plain": [
       "          city  monthly_rant           BHKS    Baths  sqft_per_inch  \\\n",
       "count   146528  1.465280e+05  146528.000000   146528   1.465280e+05   \n",
       "unique       8           NaN            NaN       41            NaN   \n",
       "top        ncr           NaN            NaN  2 Baths            NaN   \n",
       "freq     42016           NaN            NaN    68767            NaN   \n",
       "mean       NaN  3.414242e+04       2.159703      NaN   2.463806e+03   \n",
       "std        NaN  8.428243e+04       1.107673      NaN   1.816119e+05   \n",
       "min        NaN  5.000000e+02       1.000000      NaN   1.000000e+00   \n",
       "25%        NaN  1.300000e+04       1.000000      NaN   6.800000e+02   \n",
       "50%        NaN  2.000000e+04       2.000000      NaN   1.057000e+03   \n",
       "75%        NaN  3.290000e+04       3.000000      NaN   1.500000e+03   \n",
       "max        NaN  9.917000e+06      95.000000      NaN   4.356000e+07   \n",
       "\n",
       "              build_up_area Type_of_property location_of_the_property  \\\n",
       "count                146528           146528                   146528   \n",
       "unique                    4                7                    12555   \n",
       "top     Super built-up Area      Residential          Goregaon (East)   \n",
       "freq                  69918           102024                      807   \n",
       "mean                    NaN              NaN                      NaN   \n",
       "std                     NaN              NaN                      NaN   \n",
       "min                     NaN              NaN                      NaN   \n",
       "25%                     NaN              NaN                      NaN   \n",
       "50%                     NaN              NaN                      NaN   \n",
       "75%                     NaN              NaN                      NaN   \n",
       "max                     NaN              NaN                      NaN   \n",
       "\n",
       "             deposit  \n",
       "count   1.465280e+05  \n",
       "unique           NaN  \n",
       "top              NaN  \n",
       "freq             NaN  \n",
       "mean    1.203667e+05  \n",
       "std     2.937736e+05  \n",
       "min     0.000000e+00  \n",
       "25%     3.000000e+04  \n",
       "50%     6.000000e+04  \n",
       "75%     1.250000e+05  \n",
       "max     2.100000e+07  "
      ]
     },
     "execution_count": 9,
     "metadata": {},
     "output_type": "execute_result"
    }
   ],
   "source": [
    "df.describe(include='all')"
   ]
  },
  {
   "cell_type": "code",
   "execution_count": 10,
   "id": "056507b5",
   "metadata": {},
   "outputs": [
    {
     "data": {
      "text/plain": [
       "city                        0\n",
       "monthly_rant                0\n",
       "BHKS                        0\n",
       "Baths                       0\n",
       "sqft_per_inch               0\n",
       "build_up_area               0\n",
       "Type_of_property            0\n",
       "location_of_the_property    0\n",
       "deposit                     0\n",
       "dtype: int64"
      ]
     },
     "execution_count": 10,
     "metadata": {},
     "output_type": "execute_result"
    }
   ],
   "source": [
    "df.isnull().sum()"
   ]
  },
  {
   "cell_type": "code",
   "execution_count": 11,
   "id": "b3df4d4d",
   "metadata": {},
   "outputs": [],
   "source": [
    "df.drop(['Baths','location_of_the_property'],axis=1,inplace=True)"
   ]
  },
  {
   "cell_type": "code",
   "execution_count": 12,
   "id": "f591b77c",
   "metadata": {},
   "outputs": [
    {
     "data": {
      "text/plain": [
       "array(['Residential', 'Independent', 'Studio', 'Serviced', 'for', 'Farm',\n",
       "       'Floor'], dtype=object)"
      ]
     },
     "execution_count": 12,
     "metadata": {},
     "output_type": "execute_result"
    }
   ],
   "source": [
    "df.Type_of_property.unique()"
   ]
  },
  {
   "cell_type": "code",
   "execution_count": 13,
   "id": "f31ab8cd",
   "metadata": {},
   "outputs": [],
   "source": [
    "df=df[df.Type_of_property!='for']\n",
    "df=df[df.Type_of_property!='Serviced']\n",
    "df=df[df.Type_of_property!='Floor']"
   ]
  },
  {
   "cell_type": "code",
   "execution_count": 14,
   "id": "5fb2471b",
   "metadata": {},
   "outputs": [
    {
     "data": {
      "text/plain": [
       "<Axes: xlabel='monthly_rant', ylabel='Density'>"
      ]
     },
     "execution_count": 14,
     "metadata": {},
     "output_type": "execute_result"
    },
    {
     "data": {
      "image/png": "[encoded data removed]",
      "text/plain": [
       "<Figure size 1000x200 with 1 Axes>"
      ]
     },
     "metadata": {},
     "output_type": "display_data"
    }
   ],
   "source": [
    "df['monthly_rant']=np.log1p(df['monthly_rant'])\n",
    "sns.distplot(df['monthly_rant'])"
   ]
  },
  {
   "cell_type": "code",
   "execution_count": 15,
   "id": "10c39ebb",
   "metadata": {},
   "outputs": [],
   "source": [
    "cty = LabelEncoder()\n",
    "b_u_a = LabelEncoder()\n",
    "T_o_p = LabelEncoder()\n",
    "#L_o_t_p = LabelEncoder()\n",
    "\n",
    "df['city'] = cty.fit_transform(df['city'])\n",
    "df['build_up_area'] = b_u_a.fit_transform(df['build_up_area'])\n",
    "df['Type_of_property'] = T_o_p.fit_transform(df['Type_of_property'])\n",
    "#df['Location of the property'] = L_o_t_p.fit transform(df['location of the property’],"
   ]
  },
  {
   "cell_type": "code",
   "execution_count": 16,
   "id": "bc4ecb8a",
   "metadata": {},
   "outputs": [
    {
     "name": "stdout",
     "output_type": "stream",
     "text": [
      "city [5 7 3 2 4 0 6 1]\n",
      "['mumbai' 'pune' 'chennai' 'bangalore' 'hyderabad' 'Ahmedabad' 'ncr'\n",
      " 'Trivandraum']\n",
      "\n",
      "build_up_area: [1 3 0 2]\n",
      "['Carpet Area' 'Super built-up Area' 'Built-up Area' 'Plot Area']\n",
      "\n",
      "Type_of_property [2 1 3 0]\n",
      "['Residential' 'Independent' 'Studio' 'Farm']\n",
      "\n"
     ]
    }
   ],
   "source": [
    "print(\"city\",df['city'].unique())\n",
    "print(cty.inverse_transform(list(df['city'].unique())))\n",
    "print()\n",
    "print(\"build_up_area:\",df['build_up_area'].unique())\n",
    "print(b_u_a.inverse_transform(list(df['build_up_area'].unique())))\n",
    "print()\n",
    "print(\"Type_of_property\", df['Type_of_property'].unique())\n",
    "print(T_o_p.inverse_transform(list(df['Type_of_property'].unique())))\n",
    "print()\n",
    "\n",
    "#print(\"location_of_the_property\",df[ \"location_of_the_property’].unique())\n",
    "#print(L_o_t p.inverse_transform(list(df['location_of_the_property'].unique())))\n"
   ]
  },
  {
   "cell_type": "code",
   "execution_count": 17,
   "id": "e31ffa5b",
   "metadata": {},
   "outputs": [],
   "source": [
    "#Seperating the variable Independent matrix X and dependent Vector y\n",
    "\n",
    "x = df.drop('monthly_rant',axis=1)\n",
    "y = df.monthly_rant"
   ]
  },
  {
   "cell_type": "code",
   "execution_count": 18,
   "id": "ee4a49a4",
   "metadata": {},
   "outputs": [],
   "source": [
    "# Spliting the data into Training set & Test set\n",
    "\n",
    "xtrain,xtest,ytrain,ytest = train_test_split(x,y,test_size=0.2,random_state=10)"
   ]
  },
  {
   "cell_type": "code",
   "execution_count": 19,
   "id": "ca82e5cd",
   "metadata": {},
   "outputs": [
    {
     "name": "stdout",
     "output_type": "stream",
     "text": [
      "Shape of xtrain (116827, 6)\n",
      "Shape of xtest (29207, 6)\n",
      "shape of ytrain (116827,)\n",
      "Shape of ytest (29207,)\n"
     ]
    }
   ],
   "source": [
    "print('Shape of xtrain {}'.format(xtrain.shape))\n",
    "print('Shape of xtest {}'.format(xtest.shape))\n",
    "print('shape of ytrain {}'.format(ytrain.shape))\n",
    "print('Shape of ytest {}'.format(ytest.shape))"
   ]
  },
  {
   "cell_type": "code",
   "execution_count": 20,
   "id": "52d37a63",
   "metadata": {},
   "outputs": [],
   "source": [
    "st=StandardScaler()\n",
    "xtrain_scaled=st.fit_transform(xtrain)\n",
    "xtest_scaled=st.transform(xtest)    "
   ]
  },
  {
   "cell_type": "code",
   "execution_count": 21,
   "id": "5c0c255f",
   "metadata": {},
   "outputs": [],
   "source": [
    "#Model Building"
   ]
  },
  {
   "cell_type": "code",
   "execution_count": 22,
   "id": "0a36c3f7",
   "metadata": {},
   "outputs": [],
   "source": [
    "def linear_reg(xtrain_scaled,xtest_scaled,ytrain,ytest):\n",
    "    lr=LinearRegression()\n",
    "    lr.fit(xtrain_scaled,ytrain)\n",
    "    ypred=lr.predict(xtest_scaled)\n",
    "    score=r2_score(ytest,ypred)\n",
    "    rmse=np.sqrt(mean_squared_error(ytest,ypred))\n",
    "    print('***Linear Regression model=***')\n",
    "    print('Score for Linear Regression model is {}'.format(score))\n",
    "    print('RMSE for Linear Regression model is {}'.format(rmse))"
   ]
  },
  {
   "cell_type": "code",
   "execution_count": 23,
   "id": "e5eaa611",
   "metadata": {},
   "outputs": [],
   "source": [
    "def random_forest_regressor(xtrain_scaled,xtest_scaled,ytrain,ytest):\n",
    "    rf=RandomForestRegressor()\n",
    "    rf.fit(xtrain_scaled,ytrain)\n",
    "    ypred=(rf.predict(xtest_scaled))\n",
    "    score=r2_score(ytest,ypred)\n",
    "    rmse=np. sqrt (mean_squared_error(ytest,ypred))\n",
    "    print('***Random Forest Regressor Model***')\n",
    "    print('Score for Random Forest Regressor Model is {}'.format(score))\n",
    "    print('RMSE for Random Forest Regressor Model is {}'.format(rmse))\n",
    "    "
   ]
  },
  {
   "cell_type": "code",
   "execution_count": 24,
   "id": "fe7f0280",
   "metadata": {},
   "outputs": [],
   "source": [
    "def gradient_boosting_regressor(xtrain_scaled,xtest_scaled,ytrain,ytest):\n",
    "    gb=GradientBoostingRegressor()\n",
    "    gb.fit(xtrain_scaled,ytrain)\n",
    "    ypred=(gb.predict(xtest_scaled))\n",
    "    score=r2_score(ytest,ypred)\n",
    "    rmse=np.sqrt(mean_squared_error(ytest,ypred))\n",
    "    print('***Gradient Boosting Regressor Model***')\n",
    "    print('Score for Gradient Boosting Regressor Model is {}'.format(score))\n",
    "    print('RMSE for Gradient Boosting Regressor Model is {}'.format(rmse))"
   ]
  },
  {
   "cell_type": "code",
   "execution_count": 25,
   "id": "84547b3a",
   "metadata": {},
   "outputs": [],
   "source": [
    "def model_compare(xtrain_scaled,xtest_scaled,ytrain,ytest):\n",
    "    linear_reg(xtrain_scaled,xtest_scaled,ytrain,ytest)\n",
    "    print('-'*100)\n",
    "    random_forest_regressor(xtrain_scaled,xtest_scaled,ytrain,ytest)\n",
    "    print('-'*100)\n",
    "    gradient_boosting_regressor(xtrain_scaled,xtest_scaled,ytrain,ytest)\n",
    "    print('-'*100)"
   ]
  },
  {
   "cell_type": "code",
   "execution_count": 26,
   "id": "ff5a9ca7",
   "metadata": {},
   "outputs": [],
   "source": [
    "rf=RandomForestRegressor()"
   ]
  },
  {
   "cell_type": "code",
   "execution_count": 27,
   "id": "975eaaa2",
   "metadata": {},
   "outputs": [
    {
     "name": "stdout",
     "output_type": "stream",
     "text": [
      "***Linear Regression model=***\n",
      "Score for Linear Regression model is 0.47784477380544765\n",
      "RMSE for Linear Regression model is 0.574125771758495\n",
      "----------------------------------------------------------------------------------------------------\n",
      "***Random Forest Regressor Model***\n",
      "Score for Random Forest Regressor Model is 0.8941870016584749\n",
      "RMSE for Random Forest Regressor Model is 0.2584501199410434\n",
      "----------------------------------------------------------------------------------------------------\n",
      "***Gradient Boosting Regressor Model***\n",
      "Score for Gradient Boosting Regressor Model is 0.877853968570921\n",
      "RMSE for Gradient Boosting Regressor Model is 0.2776814754062416\n",
      "----------------------------------------------------------------------------------------------------\n"
     ]
    }
   ],
   "source": [
    "model_compare(xtrain_scaled,xtest_scaled,ytrain,ytest)\n"
   ]
  },
  {
   "cell_type": "code",
   "execution_count": 28,
   "id": "09eee769",
   "metadata": {},
   "outputs": [],
   "source": [
    "import pickle\n",
    "pickle.dump(rf,open('model.pkl','wb'))"
   ]
  },
  {
   "cell_type": "code",
   "execution_count": null,
   "id": "1afe9c8e",
   "metadata": {},
   "outputs": [],
   "source": []
  }
 ],
 "metadata": {
  "kernelspec": {
   "display_name": "Python 3 (ipykernel)",
   "language": "python",
   "name": "python3"
  },
  "language_info": {
   "codemirror_mode": {
    "name": "ipython",
    "version": 3
   },
   "file_extension": ".py",
   "mimetype": "text/x-python",
   "name": "python",
   "nbconvert_exporter": "python",
   "pygments_lexer": "ipython3",
   "version": "3.10.9"
  }
 },
 "nbformat": 4,
 "nbformat_minor": 5
}
